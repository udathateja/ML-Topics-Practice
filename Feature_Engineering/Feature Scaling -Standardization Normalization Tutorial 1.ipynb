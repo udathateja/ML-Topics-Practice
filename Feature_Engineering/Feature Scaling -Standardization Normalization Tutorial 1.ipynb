{
 "cells": [
  {
   "cell_type": "markdown",
   "id": "matched-bench",
   "metadata": {},
   "source": [
    "## Feature Scaling - Part1\n",
    "\n",
    "Youtube Explanation of Feature Scaling, Standardization and Normalization : https://youtu.be/opbSccCw10E\n"
   ]
  },
  {
   "cell_type": "markdown",
   "id": "solved-component",
   "metadata": {},
   "source": [
    "Suppose we have two features of weight(gm) and price(Rs), as in the below dataset. The “Weight” cannot have a meaningful comparison with the “Price.” So the assumption algorithm makes that since “Weight” > “Price,” thus “Weight,” is more important than “Price.”\n",
    "\n",
    "        Fruit      = \"Orange\",\"Apple\",\"Banana\",\"Mango\"\n",
    "        weight(gm) = 100,150,170,200\n",
    "        Price(Rs)  = 1,2,4,5\n",
    "        \n",
    "So these more significant number starts playing a more decisive role while training the model. Thus feature scaling is needed to bring every feature in the same footing without any upfront importance. Interestingly, if we convert the weight to “Kg,” then “Price” becomes dominant."
   ]
  },
  {
   "cell_type": "markdown",
   "id": "elegant-seller",
   "metadata": {},
   "source": [
    "- Feature Scaling is one of the important pre-processing that is required for standardizing/normalization of the input data. When the range of values are very distinct in each column, we need to scale them to the common level. The values are brought to common level and then we can apply further machine learning algorithm to the input data."
   ]
  },
  {
   "cell_type": "markdown",
   "id": "cubic-advantage",
   "metadata": {},
   "source": [
    "## Different Feature Scaling Techniques\n",
    "\n",
    "We can use different Scaling Techniques in order to scale the input dataset. We can apply either of the following:\n",
    "\n",
    "- Standardization\n",
    "- Normalization"
   ]
  },
  {
   "cell_type": "markdown",
   "id": "surgical-greensboro",
   "metadata": {},
   "source": [
    "### What is Normalization ?\n",
    "\n",
    "Normalization is a scaling technique in which values are shifted and rescaled so that they end up ranging **between 0 and 1**. It is also known as Min-Max scaling.\n",
    "\n",
    "Formula for normalization:\n",
    "    \n",
    "\n",
    "$$\n",
    "X(norm) = \\frac{X-Xmin}{Xmax-Xmin}\n",
    "$$\n",
    "\n",
    "In the above equation:\n",
    "\n",
    "     - Xmax and Xmin is Maximum and Minimum Value of the feature column\n",
    "     - When the value of X is the minimum value in the column, the numerator will be 0, and hence X(norm) is 0\n",
    "     - On the other hand, when the value of X is the maximum value in the column, the numerator is equal to the \n",
    "       denominator and thus the value of X(norm) is 1\n",
    "     - If the value of X is between the minimum and the maximum value, then the value of X(norm) is between 0 and 1"
   ]
  },
  {
   "cell_type": "code",
   "execution_count": 1,
   "id": "sensitive-remainder",
   "metadata": {},
   "outputs": [
    {
     "name": "stdout",
     "output_type": "stream",
     "text": [
      "min_max_using_python : [0.0, 0.3333333333333333, 1.0, 0.8333333333333334, 0.6666666666666666, 0.16666666666666666, 0.3333333333333333]\n",
      "min_max_using_numpy : [0.         0.33333333 1.         0.83333333 0.66666667 0.16666667\n",
      " 0.33333333]\n"
     ]
    }
   ],
   "source": [
    "# Min-Max scaling\n",
    "x = [1,3,7,6,5,2,3]\n",
    "minmax = [(x_i - min(x)) / (max(x) - min(x)) for x_i in x]\n",
    "print(\"min_max_using_python :\",minmax)\n",
    "\n",
    "\n",
    "# Min-Max scaling using numpy\n",
    "import numpy as np\n",
    "x_np = np.array(x)\n",
    "np_minmax = (x_np - x_np.min()) / (x_np.max() - x_np.min())\n",
    "print(\"min_max_using_numpy :\",np_minmax)"
   ]
  },
  {
   "cell_type": "markdown",
   "id": "particular-madrid",
   "metadata": {},
   "source": [
    "### What is Standardization ?\n",
    "\n",
    "It is a very effective technique which re-scales a feature value so that it has distribution with 0 mean value and variance equals to 1.\n",
    "\n",
    "Formula for Standardization:\n",
    "    \n",
    "\n",
    "$$\n",
    "X(stand) = \\frac{X-mu}{sigma}\n",
    "$$\n",
    "\n",
    "            - mu is the mean of the feature values and sigma is the standard deviation of the feature values. \n",
    "            - Note that in this case, the values are not restricted to a particular range."
   ]
  },
  {
   "cell_type": "code",
   "execution_count": 2,
   "id": "effective-triple",
   "metadata": {},
   "outputs": [
    {
     "name": "stdout",
     "output_type": "stream",
     "text": [
      "z_scores uisng python : [-1.4071950894605836, -0.4221585268381751, 1.5479145984066418, 1.0553963170954377, 0.5628780357842333, -0.9146768081493794, -0.4221585268381751]\n",
      "z_scores using numpy : [-1.40719509 -0.42215853  1.5479146   1.05539632  0.56287804 -0.91467681\n",
      " -0.42215853]\n"
     ]
    }
   ],
   "source": [
    "# Standardization using Python\n",
    "\n",
    "x = [1,3,7,6,5,2,3]\n",
    "mean = sum(x)/len(x)\n",
    "std_dev = (1/len(x) * sum([ (x_i - mean)**2 for x_i in x]))**0.5\n",
    "\n",
    "z_scores = [(x_i - mean)/std_dev for x_i in x]\n",
    "print(\"z_scores uisng python :\",z_scores)\n",
    "\n",
    "\n",
    "# Standardization using numpy\n",
    "import numpy as np\n",
    "x_np = np.array(x)\n",
    "z_scores_np = (x_np - x_np.mean()) / x_np.std()\n",
    "print(\"z_scores using numpy :\",z_scores_np)"
   ]
  },
  {
   "cell_type": "code",
   "execution_count": 3,
   "id": "spiritual-detection",
   "metadata": {},
   "outputs": [
    {
     "data": {
      "text/plain": [
       "1.0"
      ]
     },
     "execution_count": 3,
     "metadata": {},
     "output_type": "execute_result"
    }
   ],
   "source": [
    "round(z_scores_np.std(),2)"
   ]
  }
 ],
 "metadata": {
  "kernelspec": {
   "display_name": "Python 3",
   "language": "python",
   "name": "python3"
  },
  "language_info": {
   "codemirror_mode": {
    "name": "ipython",
    "version": 3
   },
   "file_extension": ".py",
   "mimetype": "text/x-python",
   "name": "python",
   "nbconvert_exporter": "python",
   "pygments_lexer": "ipython3",
   "version": "3.7.9"
  }
 },
 "nbformat": 4,
 "nbformat_minor": 5
}

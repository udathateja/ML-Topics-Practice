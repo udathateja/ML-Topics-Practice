{
 "cells": [
  {
   "cell_type": "markdown",
   "id": "absent-frequency",
   "metadata": {},
   "source": [
    "## <span style=\"color:blue\">Hands-on Linear Regression using Statsmodels Library and using best fit line method-OLS(Ordinary Least Square)\n",
    "\n",
    "Video Explanation : https://youtu.be/vDgUtsGwZ0Y"
   ]
  },
  {
   "cell_type": "code",
   "execution_count": 1,
   "id": "naked-tyler",
   "metadata": {},
   "outputs": [],
   "source": [
    "import statsmodels.api as sm\n",
    "import numpy as np\n",
    "import matplotlib.pyplot as plt"
   ]
  },
  {
   "cell_type": "code",
   "execution_count": 2,
   "id": "norman-nutrition",
   "metadata": {},
   "outputs": [],
   "source": [
    "X = np.array([3,4,6,12,9,15,10,1,8,13]).reshape(-1,1)\n",
    "y = np.array([16,29,43,65,51,89,57,9,53,68])"
   ]
  },
  {
   "cell_type": "code",
   "execution_count": 3,
   "id": "silver-concrete",
   "metadata": {},
   "outputs": [],
   "source": [
    "# we need to add the column of ones to the inputs if we want statsmodels to calculate the intercept 𝑏₀. \n",
    "# It doesn’t takes 𝑏₀ into account by default. This is just one function call:\n",
    "x = sm.add_constant(X)"
   ]
  },
  {
   "cell_type": "markdown",
   "id": "beneficial-joshua",
   "metadata": {},
   "source": [
    "we know that multiple linear regression is represented as :\n",
    "\n",
    "y = b0 + b1X1 + b2X2 + b3X3 +…..+ bnXn\n",
    "\n",
    "but we can also, represent it as: y = b0X0 + b1X1 + b2X2 + b3X3 +…..+ bnXn where X0 = 1\n",
    "\n",
    "We have to add one column with all the same values as 1 to represent b0X0."
   ]
  },
  {
   "cell_type": "code",
   "execution_count": 4,
   "id": "forbidden-bulletin",
   "metadata": {},
   "outputs": [
    {
     "data": {
      "text/plain": [
       "array([[ 1.,  3.],\n",
       "       [ 1.,  4.],\n",
       "       [ 1.,  6.],\n",
       "       [ 1., 12.],\n",
       "       [ 1.,  9.],\n",
       "       [ 1., 15.],\n",
       "       [ 1., 10.],\n",
       "       [ 1.,  1.],\n",
       "       [ 1.,  8.],\n",
       "       [ 1., 13.]])"
      ]
     },
     "execution_count": 4,
     "metadata": {},
     "output_type": "execute_result"
    }
   ],
   "source": [
    "x"
   ]
  },
  {
   "cell_type": "markdown",
   "id": "verified-monday",
   "metadata": {},
   "source": [
    "We can see that the modified x has two columns: the first column of ones (corresponding to 𝑏₀ and replacing the intercept) as well as second column of the original feature."
   ]
  },
  {
   "cell_type": "code",
   "execution_count": 5,
   "id": "thirty-shuttle",
   "metadata": {},
   "outputs": [],
   "source": [
    "# Create a model and fit it\n",
    "model = sm.OLS(y,x)  # notice that the first argument is the output, followed with the input."
   ]
  },
  {
   "cell_type": "code",
   "execution_count": 6,
   "id": "aboriginal-oracle",
   "metadata": {},
   "outputs": [],
   "source": [
    "#Once model is created,  apply .fit() on it:\n",
    "model_op = model.fit()"
   ]
  },
  {
   "cell_type": "code",
   "execution_count": 7,
   "id": "coupled-report",
   "metadata": {},
   "outputs": [
    {
     "data": {
      "text/plain": [
       "<statsmodels.regression.linear_model.RegressionResultsWrapper at 0x26d8aae8d08>"
      ]
     },
     "execution_count": 7,
     "metadata": {},
     "output_type": "execute_result"
    }
   ],
   "source": [
    "model_op"
   ]
  },
  {
   "cell_type": "code",
   "execution_count": 8,
   "id": "tracked-oxygen",
   "metadata": {},
   "outputs": [
    {
     "name": "stdout",
     "output_type": "stream",
     "text": [
      "regression_intercept : 5.334568554790858\n",
      "regression_coeff : 5.267337215457917\n"
     ]
    }
   ],
   "source": [
    "print(\"regression_intercept :\",model_op.params[0])\n",
    "print(\"regression_coeff :\",model_op.params[1])"
   ]
  },
  {
   "cell_type": "code",
   "execution_count": 9,
   "id": "twenty-rachel",
   "metadata": {},
   "outputs": [
    {
     "name": "stdout",
     "output_type": "stream",
     "text": [
      "y_pred_stat : [21.1365802  26.40391742 36.93859185 68.54261514 52.74060349 84.34462679\n",
      " 58.00794071 10.60190577 47.47326628 73.80995236]\n"
     ]
    }
   ],
   "source": [
    "print(\"y_pred_stat :\",model_op.predict(x))"
   ]
  },
  {
   "cell_type": "code",
   "execution_count": 10,
   "id": "balanced-packing",
   "metadata": {},
   "outputs": [
    {
     "name": "stdout",
     "output_type": "stream",
     "text": [
      "MSE :  17.499947061937526\n"
     ]
    }
   ],
   "source": [
    "print(\"MSE : \",(model_op.ssr)/len(x))"
   ]
  },
  {
   "cell_type": "code",
   "execution_count": 11,
   "id": "strong-scale",
   "metadata": {},
   "outputs": [
    {
     "name": "stdout",
     "output_type": "stream",
     "text": [
      "RMSE :  4.1832938053569135\n"
     ]
    }
   ],
   "source": [
    "print(\"RMSE : \",np.sqrt((model_op.ssr)/len(x)))"
   ]
  },
  {
   "cell_type": "code",
   "execution_count": 12,
   "id": "illegal-stupid",
   "metadata": {},
   "outputs": [
    {
     "name": "stdout",
     "output_type": "stream",
     "text": [
      "r2 : 0.9676884286153296\n"
     ]
    }
   ],
   "source": [
    "print(\"r2 :\",model_op.rsquared)"
   ]
  },
  {
   "cell_type": "markdown",
   "id": "reported-mystery",
   "metadata": {},
   "source": [
    "This is the predicted response for known inputs. If we want predictions with new regressors, we can also apply .predict() with new data as the argument:"
   ]
  },
  {
   "cell_type": "code",
   "execution_count": 13,
   "id": "distant-sarah",
   "metadata": {},
   "outputs": [
    {
     "name": "stdout",
     "output_type": "stream",
     "text": [
      "[[1. 0.]\n",
      " [1. 1.]\n",
      " [1. 2.]\n",
      " [1. 3.]\n",
      " [1. 4.]\n",
      " [1. 5.]\n",
      " [1. 6.]\n",
      " [1. 7.]\n",
      " [1. 8.]\n",
      " [1. 9.]]\n",
      "y_pred_stat_new : [ 5.33456855 10.60190577 15.86924299 21.1365802  26.40391742 31.67125463\n",
      " 36.93859185 42.20592906 47.47326628 52.74060349]\n"
     ]
    }
   ],
   "source": [
    "x_new = sm.add_constant(np.arange(10).reshape((-1, 1)))\n",
    "print(x_new)\n",
    "print(\"y_pred_stat_new :\",model_op.predict(x_new))"
   ]
  },
  {
   "cell_type": "markdown",
   "id": "banned-registration",
   "metadata": {},
   "source": [
    "## <span style=\"color:blue\">Mathmetical intution behind the Statsmodels Library and using best fit line method-OLS(Ordinary Least Square)"
   ]
  },
  {
   "cell_type": "markdown",
   "id": "activated-toronto",
   "metadata": {},
   "source": [
    "The least-squares regression method is a technique commonly used in Regression Analysis. It is a mathematical method used to find the best fit line that represents the relationship between an independent and dependent variable. "
   ]
  },
  {
   "cell_type": "markdown",
   "id": "labeled-rebound",
   "metadata": {},
   "source": [
    "To understand the least-squares regression method lets get familiar with the concepts involved in formulating the line of best fit."
   ]
  },
  {
   "cell_type": "markdown",
   "id": "failing-method",
   "metadata": {},
   "source": [
    "### What is the Best Fit regression Line ?"
   ]
  },
  {
   "cell_type": "markdown",
   "id": "elegant-complement",
   "metadata": {},
   "source": [
    "Line of best fit is drawn to represent the relationship between 2 or more variables. To be more specific, the best fit line is drawn across a scatter plot of data points in order to represent a relationship between those data points."
   ]
  },
  {
   "cell_type": "markdown",
   "id": "mighty-romania",
   "metadata": {},
   "source": [
    "The least-squares method is one of the most effective ways used to draw the line of best fit. It is based on the idea that the square of the errors obtained must be minimized to the most possible extent and hence the name least squares method.\n",
    "\n",
    "The line is as close as possible to all the scattered data points. This is what an ideal best fit line looks like."
   ]
  },
  {
   "cell_type": "markdown",
   "id": "approximate-youth",
   "metadata": {},
   "source": [
    "### Calculate the Line of Best Fit"
   ]
  },
  {
   "cell_type": "markdown",
   "id": "pending-group",
   "metadata": {},
   "source": [
    "Take a look at the equation below:\n",
    "\n",
    "y = mx + c\n",
    "\n",
    "It is a simple equation that represents a straight line along 2 Dimensional data, i.e. x-axis and y-axis. To better understand this, let’s break down the equation:\n",
    "\n",
    "    y: dependent variable\n",
    "    m: the slope of the line\n",
    "    x: independent variable\n",
    "    c: y-intercept"
   ]
  },
  {
   "cell_type": "markdown",
   "id": "adult-monitoring",
   "metadata": {},
   "source": [
    "So the aim is to calculate the values of slope, y-intercept and substitute the corresponding ‘x’ values in the equation in order to derive the value of the dependent variable."
   ]
  },
  {
   "cell_type": "markdown",
   "id": "incomplete-sperm",
   "metadata": {},
   "source": [
    "**<span style=\"color:red\">Calculate the slope ‘m’ and 'c' by using the following formula**"
   ]
  },
  {
   "cell_type": "markdown",
   "id": "assigned-backup",
   "metadata": {},
   "source": [
    "https://scholar.princeton.edu/sites/default/files/bstewart/files/lecture5handout.pdf\n",
    "\n",
    "https://are.berkeley.edu/courses/EEP118/current/derive_ols.pdf"
   ]
  },
  {
   "cell_type": "markdown",
   "id": "refined-bulletin",
   "metadata": {},
   "source": [
    "**<span style=\"color:red\">Calculate best fitline slope m** "
   ]
  },
  {
   "cell_type": "markdown",
   "id": "hybrid-revision",
   "metadata": {},
   "source": [
    "m = Sample Covariance between X and Y / Sample Variance of X\n",
    "\n",
    "- The higher the covariance betweenXandY,the higher the slope will be.\n",
    "- Negative covariances → negative slopes; positive covariances → positive slopes"
   ]
  },
  {
   "cell_type": "code",
   "execution_count": 14,
   "id": "patent-nitrogen",
   "metadata": {},
   "outputs": [],
   "source": [
    "import numpy as np\n",
    "import matplotlib.pyplot as plt\n",
    "import pandas as pd\n",
    "x = np.array([3,4,6,12,9,15,10,1,8,13])\n",
    "y = np.array([16,29,43,65,51,89,57,9,53,68])"
   ]
  },
  {
   "cell_type": "code",
   "execution_count": 15,
   "id": "structured-salon",
   "metadata": {},
   "outputs": [
    {
     "name": "stdout",
     "output_type": "stream",
     "text": [
      "5.267337215457915\n"
     ]
    }
   ],
   "source": [
    "import numpy as np\n",
    "def best_fit_slope(x,y):\n",
    "    m = np.sum((x - np.mean(x))* (y - np.mean(y)))/np.sum((x - np.mean(x))**2)\n",
    "    return m\n",
    "\n",
    "m = best_fit_slope(x,y)\n",
    "print(m)"
   ]
  },
  {
   "cell_type": "markdown",
   "id": "pacific-board",
   "metadata": {},
   "source": [
    "**<span style=\"color:red\">Calculate y-intercept value c**"
   ]
  },
  {
   "cell_type": "code",
   "execution_count": 16,
   "id": "entire-cradle",
   "metadata": {},
   "outputs": [
    {
     "name": "stdout",
     "output_type": "stream",
     "text": [
      "5.334568554790891\n"
     ]
    }
   ],
   "source": [
    "import numpy as np\n",
    "# y = mx + c\n",
    "# c = y_mean - m*x_mean\n",
    "def best_fit_intercept(x,y):\n",
    "    c = np.mean(y) - m * np.mean(x)\n",
    "    return c\n",
    "\n",
    "c = best_fit_intercept(x,y)\n",
    "print(c)"
   ]
  },
  {
   "cell_type": "markdown",
   "id": "indoor-newcastle",
   "metadata": {},
   "source": [
    "**<span style=\"color:red\">Substitute the values in the final equation y = mx + c**"
   ]
  },
  {
   "cell_type": "code",
   "execution_count": 17,
   "id": "median-campbell",
   "metadata": {},
   "outputs": [
    {
     "data": {
      "text/plain": [
       "array([21.1365802 , 26.40391742, 36.93859185, 68.54261514, 52.74060349,\n",
       "       84.34462679, 58.00794071, 10.60190577, 47.47326628, 73.80995236])"
      ]
     },
     "execution_count": 17,
     "metadata": {},
     "output_type": "execute_result"
    }
   ],
   "source": [
    "y_pred = m * x + c\n",
    "y_pred"
   ]
  },
  {
   "cell_type": "code",
   "execution_count": 18,
   "id": "looking-rental",
   "metadata": {},
   "outputs": [
    {
     "data": {
      "image/png": "[encoded data removed]",
      "text/plain": [
       "<Figure size 432x288 with 1 Axes>"
      ]
     },
     "metadata": {
      "needs_background": "light"
     },
     "output_type": "display_data"
    }
   ],
   "source": [
    "# Ploting Scatter Points\n",
    "import matplotlib.pyplot as plt\n",
    "plt.scatter(x, y, label='Scatter Plot') \n",
    "# Ploting Line\n",
    "plt.plot([np.min(x), np.max(x)], [np.min(y_pred), np.max(y_pred)], color='red', label='Regression best fit Line')\n",
    "plt.xlabel('Experience')\n",
    "plt.ylabel('Salary')\n",
    "plt.legend()\n",
    "plt.show()"
   ]
  },
  {
   "cell_type": "code",
   "execution_count": 19,
   "id": "exact-thing",
   "metadata": {},
   "outputs": [
    {
     "data": {
      "image/png": "[encoded data removed]",
      "text/plain": [
       "<Figure size 432x288 with 1 Axes>"
      ]
     },
     "metadata": {
      "needs_background": "light"
     },
     "output_type": "display_data"
    }
   ],
   "source": [
    "# Use regression plot using seaborn\n",
    "import seaborn as sns\n",
    "sns.regplot(y = y,x=x ,scatter_kws={\"color\": \"blue\"},line_kws={\"color\": \"red\"})\n",
    "plt.xlabel('Experience')\n",
    "plt.ylabel('Salary')\n",
    "plt.show()"
   ]
  },
  {
   "cell_type": "markdown",
   "id": "pediatric-strain",
   "metadata": {},
   "source": [
    "**<span style=\"color:red\">Model Evaluation**\n",
    "\n",
    "**RMSE**\n",
    "\n",
    "It’s time to evaluate the model and see how good it is for the final stage i.e., prediction. To do that we will use the Root Mean Squared Error method that basically calculates the least-squares error and takes a root of the summed values.\n",
    "\n",
    "Mathematically speaking, Root Mean Squared Error is nothing but the square root of the sum of all errors divided by the total number of values. This is the formula to calculate RMSE:"
   ]
  },
  {
   "cell_type": "code",
   "execution_count": 20,
   "id": "aging-reconstruction",
   "metadata": {},
   "outputs": [],
   "source": [
    "# Calculating Root Mean Squares Error\n",
    "def rmse(x,y,n):\n",
    "    y_pred = c + m * x\n",
    "    sse = sum((y - y_pred)**2)\n",
    "    rmse = np.sqrt(sse/n)\n",
    "    return rmse"
   ]
  },
  {
   "cell_type": "code",
   "execution_count": 21,
   "id": "phantom-minutes",
   "metadata": {},
   "outputs": [
    {
     "name": "stdout",
     "output_type": "stream",
     "text": [
      "rmse :  4.183293805356914\n"
     ]
    }
   ],
   "source": [
    "print(\"rmse : \",rmse(x,y,len(x)))"
   ]
  },
  {
   "cell_type": "markdown",
   "id": "mexican-module",
   "metadata": {},
   "source": [
    "**R-squared** \n",
    "\n",
    "- Value that measures how close the data are to the fitted line of best.\n",
    "- The value of R-squared ranges between 0 and 1. A negative value denoted that the model is weak and the prediction thus made are wrong and biased. In such situations, it’s essential that you analyze all the predictor variables and look for a variable that has a high correlation with the output."
   ]
  },
  {
   "cell_type": "code",
   "execution_count": 22,
   "id": "extensive-awareness",
   "metadata": {},
   "outputs": [],
   "source": [
    "# Calculating R2 Score\n",
    "def r_square(x,y,n):\n",
    "    y_pred = c + m * x\n",
    "    sst = sum((y - np.mean(y))**2)\n",
    "    ssr = sum((y - y_pred)**2)\n",
    "    r2 = 1 - (ssr/sst)\n",
    "    return r2"
   ]
  },
  {
   "cell_type": "code",
   "execution_count": 23,
   "id": "detailed-dream",
   "metadata": {},
   "outputs": [
    {
     "name": "stdout",
     "output_type": "stream",
     "text": [
      "R2 Score :  0.9676884286153296\n"
     ]
    }
   ],
   "source": [
    "print(\"R2 Score : \",r_square(x,y,len(x)))"
   ]
  },
  {
   "cell_type": "markdown",
   "id": "subject-venice",
   "metadata": {},
   "source": [
    "**<span style=\"color:red\"> Often times we will want some kind of benchmark to measure the performance of your model, typically for regression problems, we calculate the RMSE at taking slop = 0.**"
   ]
  },
  {
   "cell_type": "code",
   "execution_count": 24,
   "id": "touched-vatican",
   "metadata": {},
   "outputs": [],
   "source": [
    "# Lets take slope is zero\n",
    "import matplotlib.pyplot as plt\n",
    "starting_slope = 0\n",
    "starting_intercept = float(sum(y))/len(y)  # calculating mean of y and use that mean value as intercept"
   ]
  },
  {
   "cell_type": "code",
   "execution_count": 25,
   "id": "challenging-faith",
   "metadata": {},
   "outputs": [
    {
     "data": {
      "image/png": "[encoded data removed]",
      "text/plain": [
       "<Figure size 432x288 with 1 Axes>"
      ]
     },
     "metadata": {
      "needs_background": "light"
     },
     "output_type": "display_data"
    }
   ],
   "source": [
    "# Lets plot the data as well as the intercept.\n",
    "plt.scatter(x,y,label='Scatter Plot')\n",
    "plt.plot(x,starting_slope*x+starting_intercept, c = 'blue',label='Regression Line at slop = 0')\n",
    "plt.xlabel('Experience')\n",
    "plt.ylabel('Salary')\n",
    "plt.legend()\n",
    "plt.show()"
   ]
  },
  {
   "cell_type": "code",
   "execution_count": 26,
   "id": "similar-impression",
   "metadata": {},
   "outputs": [],
   "source": [
    "# Lets write a function to calculate the root mean square error taking m(slope) = 0\n",
    "def rmse(x,y):\n",
    "    y_pred = starting_intercept + starting_slope * x\n",
    "    error = 0\n",
    "    for i,j in zip(y,y_pred):\n",
    "        error += (i-j)**2\n",
    "    return np.sqrt(error/len(x))"
   ]
  },
  {
   "cell_type": "code",
   "execution_count": 27,
   "id": "alleged-spanish",
   "metadata": {},
   "outputs": [
    {
     "name": "stdout",
     "output_type": "stream",
     "text": [
      "RMSE at slop =0 :  23.27230113246217\n"
     ]
    }
   ],
   "source": [
    "print(\"RMSE at slop =0 : \",rmse(x,y))"
   ]
  },
  {
   "cell_type": "code",
   "execution_count": 28,
   "id": "fifteen-attitude",
   "metadata": {},
   "outputs": [
    {
     "name": "stderr",
     "output_type": "stream",
     "text": [
      "C:\\ProgramData\\Anaconda3\\lib\\site-packages\\scipy\\stats\\stats.py:1604: UserWarning: kurtosistest only valid for n>=20 ... continuing anyway, n=10\n",
      "  \"anyway, n=%i\" % int(n))\n"
     ]
    },
    {
     "data": {
      "text/html": [
       "<table class=\"simpletable\">\n",
       "<caption>OLS Regression Results</caption>\n",
       "<tr>\n",
       "  <th>Dep. Variable:</th>            <td>y</td>        <th>  R-squared:         </th> <td>   0.968</td>\n",
       "</tr>\n",
       "<tr>\n",
       "  <th>Model:</th>                   <td>OLS</td>       <th>  Adj. R-squared:    </th> <td>   0.964</td>\n",
       "</tr>\n",
       "<tr>\n",
       "  <th>Method:</th>             <td>Least Squares</td>  <th>  F-statistic:       </th> <td>   239.6</td>\n",
       "</tr>\n",
       "<tr>\n",
       "  <th>Date:</th>             <td>Thu, 22 Apr 2021</td> <th>  Prob (F-statistic):</th> <td>3.02e-07</td>\n",
       "</tr>\n",
       "<tr>\n",
       "  <th>Time:</th>                 <td>16:50:23</td>     <th>  Log-Likelihood:    </th> <td> -28.500</td>\n",
       "</tr>\n",
       "<tr>\n",
       "  <th>No. Observations:</th>      <td>    10</td>      <th>  AIC:               </th> <td>   61.00</td>\n",
       "</tr>\n",
       "<tr>\n",
       "  <th>Df Residuals:</th>          <td>     8</td>      <th>  BIC:               </th> <td>   61.61</td>\n",
       "</tr>\n",
       "<tr>\n",
       "  <th>Df Model:</th>              <td>     1</td>      <th>                     </th>     <td> </td>   \n",
       "</tr>\n",
       "<tr>\n",
       "  <th>Covariance Type:</th>      <td>nonrobust</td>    <th>                     </th>     <td> </td>   \n",
       "</tr>\n",
       "</table>\n",
       "<table class=\"simpletable\">\n",
       "<tr>\n",
       "    <td></td>       <th>coef</th>     <th>std err</th>      <th>t</th>      <th>P>|t|</th>  <th>[0.025</th>    <th>0.975]</th>  \n",
       "</tr>\n",
       "<tr>\n",
       "  <th>const</th> <td>    5.3346</td> <td>    3.128</td> <td>    1.705</td> <td> 0.127</td> <td>   -1.879</td> <td>   12.548</td>\n",
       "</tr>\n",
       "<tr>\n",
       "  <th>x1</th>    <td>    5.2673</td> <td>    0.340</td> <td>   15.479</td> <td> 0.000</td> <td>    4.483</td> <td>    6.052</td>\n",
       "</tr>\n",
       "</table>\n",
       "<table class=\"simpletable\">\n",
       "<tr>\n",
       "  <th>Omnibus:</th>       <td> 2.283</td> <th>  Durbin-Watson:     </th> <td>   2.400</td>\n",
       "</tr>\n",
       "<tr>\n",
       "  <th>Prob(Omnibus):</th> <td> 0.319</td> <th>  Jarque-Bera (JB):  </th> <td>   0.899</td>\n",
       "</tr>\n",
       "<tr>\n",
       "  <th>Skew:</th>          <td> 0.169</td> <th>  Prob(JB):          </th> <td>   0.638</td>\n",
       "</tr>\n",
       "<tr>\n",
       "  <th>Kurtosis:</th>      <td> 1.570</td> <th>  Cond. No.          </th> <td>    19.6</td>\n",
       "</tr>\n",
       "</table><br/><br/>Notes:<br/>[1] Standard Errors assume that the covariance matrix of the errors is correctly specified."
      ],
      "text/plain": [
       "<class 'statsmodels.iolib.summary.Summary'>\n",
       "\"\"\"\n",
       "                            OLS Regression Results                            \n",
       "==============================================================================\n",
       "Dep. Variable:                      y   R-squared:                       0.968\n",
       "Model:                            OLS   Adj. R-squared:                  0.964\n",
       "Method:                 Least Squares   F-statistic:                     239.6\n",
       "Date:                Thu, 22 Apr 2021   Prob (F-statistic):           3.02e-07\n",
       "Time:                        16:50:23   Log-Likelihood:                -28.500\n",
       "No. Observations:                  10   AIC:                             61.00\n",
       "Df Residuals:                       8   BIC:                             61.61\n",
       "Df Model:                           1                                         \n",
       "Covariance Type:            nonrobust                                         \n",
       "==============================================================================\n",
       "                 coef    std err          t      P>|t|      [0.025      0.975]\n",
       "------------------------------------------------------------------------------\n",
       "const          5.3346      3.128      1.705      0.127      -1.879      12.548\n",
       "x1             5.2673      0.340     15.479      0.000       4.483       6.052\n",
       "==============================================================================\n",
       "Omnibus:                        2.283   Durbin-Watson:                   2.400\n",
       "Prob(Omnibus):                  0.319   Jarque-Bera (JB):                0.899\n",
       "Skew:                           0.169   Prob(JB):                        0.638\n",
       "Kurtosis:                       1.570   Cond. No.                         19.6\n",
       "==============================================================================\n",
       "\n",
       "Notes:\n",
       "[1] Standard Errors assume that the covariance matrix of the errors is correctly specified.\n",
       "\"\"\""
      ]
     },
     "execution_count": 28,
     "metadata": {},
     "output_type": "execute_result"
    }
   ],
   "source": [
    "model_op.summary()"
   ]
  },
  {
   "cell_type": "code",
   "execution_count": null,
   "id": "athletic-argentina",
   "metadata": {},
   "outputs": [],
   "source": []
  }
 ],
 "metadata": {
  "kernelspec": {
   "display_name": "Python 3",
   "language": "python",
   "name": "python3"
  },
  "language_info": {
   "codemirror_mode": {
    "name": "ipython",
    "version": 3
   },
   "file_extension": ".py",
   "mimetype": "text/x-python",
   "name": "python",
   "nbconvert_exporter": "python",
   "pygments_lexer": "ipython3",
   "version": "3.7.9"
  }
 },
 "nbformat": 4,
 "nbformat_minor": 5
}

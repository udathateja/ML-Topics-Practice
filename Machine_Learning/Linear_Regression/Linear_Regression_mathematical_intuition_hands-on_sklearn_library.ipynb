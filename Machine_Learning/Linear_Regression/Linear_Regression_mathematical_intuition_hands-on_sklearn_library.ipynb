{
 "cells": [
  {
   "cell_type": "markdown",
   "id": "better-softball",
   "metadata": {},
   "source": [
    "## <span style=\"color:blue\">Linear Regression using Sklearn Library and using best fit line method-OLS(Ordinary Least Square)"
   ]
  },
  {
   "cell_type": "markdown",
   "id": "personal-annex",
   "metadata": {},
   "source": [
    "Youtube Video Explanation : https://youtu.be/gn1EuKja3LQ"
   ]
  },
  {
   "cell_type": "code",
   "execution_count": 1,
   "id": "charged-resort",
   "metadata": {},
   "outputs": [],
   "source": [
    "import pandas as pd\n",
    "import matplotlib.pyplot as plt\n",
    "import numpy as np\n",
    "import seaborn as sns\n",
    "from sklearn.linear_model import LinearRegression\n",
    "from sklearn.metrics import mean_squared_error,r2_score"
   ]
  },
  {
   "cell_type": "code",
   "execution_count": 2,
   "id": "secondary-editing",
   "metadata": {},
   "outputs": [],
   "source": [
    "X = np.array([3,4,6,12,9,15,10,1,8,13]).reshape(-1,1)  ## Experience\n",
    "y = np.array([16,29,43,65,51,89,57,9,53,68]) # Salary"
   ]
  },
  {
   "cell_type": "code",
   "execution_count": 3,
   "id": "appointed-produce",
   "metadata": {},
   "outputs": [
    {
     "data": {
      "text/plain": [
       "<matplotlib.collections.PathCollection at 0x24d3105efc8>"
      ]
     },
     "execution_count": 3,
     "metadata": {},
     "output_type": "execute_result"
    },
    {
     "data": {
      "image/png": "[encoded data removed]",
      "text/plain": [
       "<Figure size 432x288 with 1 Axes>"
      ]
     },
     "metadata": {
      "needs_background": "light"
     },
     "output_type": "display_data"
    }
   ],
   "source": [
    "plt.scatter(X,y)"
   ]
  },
  {
   "cell_type": "markdown",
   "id": "understood-attendance",
   "metadata": {},
   "source": [
    "If there is a single predictor variable (X1), then the function describes a straight line. If there are two predictor variables, then the function describes a plane. If there are n predictor variables, then the function describes an n-dimensional hyperplane. Here is a plot of a fitted plane with two predictor variables:"
   ]
  },
  {
   "cell_type": "code",
   "execution_count": 4,
   "id": "devoted-disposal",
   "metadata": {
    "scrolled": true
   },
   "outputs": [
    {
     "data": {
      "text/plain": [
       "LinearRegression()"
      ]
     },
     "execution_count": 4,
     "metadata": {},
     "output_type": "execute_result"
    }
   ],
   "source": [
    "lr = LinearRegression()\n",
    "lr.fit(X,y)"
   ]
  },
  {
   "cell_type": "code",
   "execution_count": 5,
   "id": "consistent-child",
   "metadata": {
    "scrolled": true
   },
   "outputs": [
    {
     "data": {
      "text/plain": [
       "array([5.26733722])"
      ]
     },
     "execution_count": 5,
     "metadata": {},
     "output_type": "execute_result"
    }
   ],
   "source": [
    "lr.coef_"
   ]
  },
  {
   "cell_type": "code",
   "execution_count": 6,
   "id": "virgin-compound",
   "metadata": {
    "scrolled": true
   },
   "outputs": [
    {
     "data": {
      "text/plain": [
       "5.334568554790884"
      ]
     },
     "execution_count": 6,
     "metadata": {},
     "output_type": "execute_result"
    }
   ],
   "source": [
    "lr.intercept_"
   ]
  },
  {
   "cell_type": "code",
   "execution_count": 7,
   "id": "shared-retro",
   "metadata": {},
   "outputs": [],
   "source": [
    "y_pred = lr.predict(X)"
   ]
  },
  {
   "cell_type": "code",
   "execution_count": 8,
   "id": "athletic-front",
   "metadata": {
    "scrolled": true
   },
   "outputs": [
    {
     "data": {
      "text/plain": [
       "array([21.1365802 , 26.40391742, 36.93859185, 68.54261514, 52.74060349,\n",
       "       84.34462679, 58.00794071, 10.60190577, 47.47326628, 73.80995236])"
      ]
     },
     "execution_count": 8,
     "metadata": {},
     "output_type": "execute_result"
    }
   ],
   "source": [
    "y_pred"
   ]
  },
  {
   "cell_type": "code",
   "execution_count": 9,
   "id": "fiscal-result",
   "metadata": {},
   "outputs": [
    {
     "data": {
      "text/plain": [
       "17.499947061937544"
      ]
     },
     "execution_count": 9,
     "metadata": {},
     "output_type": "execute_result"
    }
   ],
   "source": [
    "mse = mean_squared_error(y,y_pred)\n",
    "mse"
   ]
  },
  {
   "cell_type": "code",
   "execution_count": 10,
   "id": "circular-performance",
   "metadata": {},
   "outputs": [
    {
     "data": {
      "text/plain": [
       "174.99947061937544"
      ]
     },
     "execution_count": 10,
     "metadata": {},
     "output_type": "execute_result"
    }
   ],
   "source": [
    "SSE = mse * len(X)\n",
    "SSE"
   ]
  },
  {
   "cell_type": "code",
   "execution_count": 11,
   "id": "infinite-toronto",
   "metadata": {},
   "outputs": [
    {
     "data": {
      "text/plain": [
       "4.183293805356915"
      ]
     },
     "execution_count": 11,
     "metadata": {},
     "output_type": "execute_result"
    }
   ],
   "source": [
    "rmse = np.sqrt(mean_squared_error(y,y_pred))\n",
    "rmse"
   ]
  },
  {
   "cell_type": "code",
   "execution_count": 12,
   "id": "shared-corruption",
   "metadata": {
    "scrolled": true
   },
   "outputs": [
    {
     "name": "stdout",
     "output_type": "stream",
     "text": [
      "[[0]\n",
      " [1]\n",
      " [2]\n",
      " [3]\n",
      " [4]\n",
      " [5]\n",
      " [6]\n",
      " [7]\n",
      " [8]\n",
      " [9]]\n",
      "y_pred_sk_new : [ 5.33456855 10.60190577 15.86924299 21.1365802  26.40391742 31.67125463\n",
      " 36.93859185 42.20592906 47.47326628 52.74060349]\n"
     ]
    }
   ],
   "source": [
    "# lets check predictions with new regressors,\n",
    "x_new_sk = np.arange(10).reshape(-1, 1)\n",
    "print(x_new_sk)\n",
    "print(\"y_pred_sk_new :\",lr.predict(x_new_sk))"
   ]
  },
  {
   "cell_type": "code",
   "execution_count": 13,
   "id": "social-insurance",
   "metadata": {},
   "outputs": [
    {
     "data": {
      "text/plain": [
       "0.9676884286153296"
      ]
     },
     "execution_count": 13,
     "metadata": {},
     "output_type": "execute_result"
    }
   ],
   "source": [
    "r2_score(y,y_pred)"
   ]
  },
  {
   "cell_type": "code",
   "execution_count": 14,
   "id": "thrown-spencer",
   "metadata": {},
   "outputs": [
    {
     "data": {
      "image/png": "[encoded data removed]",
      "text/plain": [
       "<Figure size 432x288 with 1 Axes>"
      ]
     },
     "metadata": {
      "needs_background": "light"
     },
     "output_type": "display_data"
    }
   ],
   "source": [
    "# Making predictions\n",
    "plt.scatter(X, y,label='Scatter Plot') \n",
    "plt.plot([min(X), max(X)], [min(y_pred), max(y_pred)], color='red',label='Regression best fit Line at min SSE')\n",
    "plt.xlabel('Experience')\n",
    "plt.ylabel('Salary')\n",
    "plt.style.use('fivethirtyeight')\n",
    "plt.legend()\n",
    "plt.show()"
   ]
  },
  {
   "cell_type": "markdown",
   "id": "serious-fever",
   "metadata": {},
   "source": [
    "## <span style=\"color:blue\">How to calculate slope(m) and intercept(c) in the Sklearn Library using best fit line method-OLS(Ordinary Least Square)"
   ]
  },
  {
   "cell_type": "markdown",
   "id": "physical-giving",
   "metadata": {},
   "source": [
    "#### <span style=\"color:red\">The LinearRegression model in sklearn is just a fancy wrapper of the least squares solver (scipy.linalg.lstsq) built into scipy(https://docs.scipy.org/doc/scipy/reference/generated/scipy.linalg.lstsq.html) . From a quick scan of the code, it appears to be using the LAPACK gelsd solver to obtain a solution to the least squares problem.\n",
    "    \n",
    "This is the fundamental method of calculating least-square solution to a linear system of equation by matrix factorization. It comes from the handy linear algebra module of numpy package. Under the hood, it solves the equation a x = b by computing a vector x that minimizes the Euclidean 2-norm || b — a x ||.\n",
    "    \n",
    "https://hadrienj.github.io/posts/Deep-Learning-Book-Series-2.5-Norms/"
   ]
  },
  {
   "cell_type": "code",
   "execution_count": 15,
   "id": "otherwise-night",
   "metadata": {},
   "outputs": [],
   "source": [
    "from scipy.linalg import lstsq\n",
    "# Compute least-squares solution to equation mx = y.\n",
    "# Compute a vector x such that the 2-norm |y - mx|^2 is minimized."
   ]
  },
  {
   "cell_type": "code",
   "execution_count": 16,
   "id": "meaningful-tender",
   "metadata": {},
   "outputs": [],
   "source": [
    "## Simple Linear regression"
   ]
  },
  {
   "cell_type": "code",
   "execution_count": 17,
   "id": "pleasant-organization",
   "metadata": {},
   "outputs": [],
   "source": [
    "import numpy as np\n",
    "x = np.array([3,4,6,12,9,15,10,1,8,13])\n",
    "y = np.array([16,29,43,65,51,89,57,9,53,68])"
   ]
  },
  {
   "cell_type": "code",
   "execution_count": 18,
   "id": "sustainable-railway",
   "metadata": {},
   "outputs": [
    {
     "data": {
      "text/plain": [
       "array([1., 1., 1., 1., 1., 1., 1., 1., 1., 1.])"
      ]
     },
     "execution_count": 18,
     "metadata": {},
     "output_type": "execute_result"
    }
   ],
   "source": [
    "np.ones(x.shape[0])"
   ]
  },
  {
   "cell_type": "code",
   "execution_count": 19,
   "id": "coastal-timothy",
   "metadata": {},
   "outputs": [],
   "source": [
    "# np.c_ Translates slice objects to concatenation along the second axis.\n",
    "X = np.c_[np.ones(x.shape[0]),x]  # add bias term or we called it as intercept (\"c\")\n",
    "coeff_intercept,residuals,rank,s = lstsq(X, y)"
   ]
  },
  {
   "cell_type": "code",
   "execution_count": 20,
   "id": "completed-opportunity",
   "metadata": {},
   "outputs": [
    {
     "data": {
      "text/plain": [
       "array([5.33456855, 5.26733722])"
      ]
     },
     "execution_count": 20,
     "metadata": {},
     "output_type": "execute_result"
    }
   ],
   "source": [
    "coeff_intercept"
   ]
  },
  {
   "cell_type": "code",
   "execution_count": 21,
   "id": "direct-yesterday",
   "metadata": {},
   "outputs": [
    {
     "data": {
      "text/plain": [
       "174.9994706193754"
      ]
     },
     "execution_count": 21,
     "metadata": {},
     "output_type": "execute_result"
    }
   ],
   "source": [
    "residuals"
   ]
  },
  {
   "cell_type": "code",
   "execution_count": 22,
   "id": "aggressive-management",
   "metadata": {},
   "outputs": [
    {
     "data": {
      "image/png": "[encoded data removed]",
      "text/plain": [
       "<Figure size 432x288 with 1 Axes>"
      ]
     },
     "metadata": {},
     "output_type": "display_data"
    }
   ],
   "source": [
    "# y = c + m*x\n",
    "plt.plot(x, y, 'o', label='data')\n",
    "y_pred = coeff_intercept[0] + coeff_intercept[1]*x\n",
    "plt.plot(x, y_pred, label='least squares fit, $ypred = c + mx$')\n",
    "plt.xlabel('x')\n",
    "plt.ylabel('y')\n",
    "plt.legend(shadow=True)\n",
    "plt.show()"
   ]
  },
  {
   "cell_type": "code",
   "execution_count": 23,
   "id": "ordered-bidder",
   "metadata": {},
   "outputs": [],
   "source": [
    "## Multiple Linear regression"
   ]
  },
  {
   "cell_type": "code",
   "execution_count": 24,
   "id": "stuffed-coordinate",
   "metadata": {},
   "outputs": [],
   "source": [
    "# Moreover, np.linalg.lstsq seems to only accept a 2D array for A, \n",
    "# which means that you can do the least-square for one variable at once.\n",
    "import numpy as np\n",
    "\n",
    "y = np.array([-6, -5, -10, -5, -8, -3, -6, -8, -8])\n",
    "x = np.array([\n",
    "        [-4.95, -4.55, -10.96, -1.08, -6.52, -0.81, -7.01, -4.46, -11.54],\n",
    "        [-5.87, -4.52, -11.64, -3.36, -7.45, -2.36, -7.33, -7.65, -10.03],\n",
    "        [-0.76, -0.71, -0.98, 0.75, -0.86, -0.50, -0.33, -0.94, -1.03],\n",
    "        [14.73, 13.74, 15.49, 24.72, 16.59, 22.44, 13.93, 11.40, 18.18],\n",
    "        [4.02, 4.47, 4.18, 4.96, 4.29, 4.81, 4.32, 4.43, 4.28],\n",
    "        [0.20, 0.16, 0.19, 0.16, 0.10, 0.15, 0.21, 0.16, 0.21],\n",
    "        [0.45, 0.50, 0.53, 0.60, 0.48, 0.53, 0.50, 0.49, 0.55]])"
   ]
  },
  {
   "cell_type": "code",
   "execution_count": 25,
   "id": "determined-external",
   "metadata": {},
   "outputs": [
    {
     "data": {
      "text/plain": [
       "((7, 9), (9,))"
      ]
     },
     "execution_count": 25,
     "metadata": {},
     "output_type": "execute_result"
    }
   ],
   "source": [
    "x.shape,y.shape"
   ]
  },
  {
   "cell_type": "code",
   "execution_count": 26,
   "id": "pleased-redhead",
   "metadata": {},
   "outputs": [],
   "source": [
    "X = x.T  # transpose so input vectors are along the rows"
   ]
  },
  {
   "cell_type": "code",
   "execution_count": 27,
   "id": "cutting-composition",
   "metadata": {},
   "outputs": [
    {
     "data": {
      "text/plain": [
       "((9, 7), (9,))"
      ]
     },
     "execution_count": 27,
     "metadata": {},
     "output_type": "execute_result"
    }
   ],
   "source": [
    "X.shape,y.shape"
   ]
  },
  {
   "cell_type": "code",
   "execution_count": 28,
   "id": "guilty-internet",
   "metadata": {},
   "outputs": [],
   "source": [
    "X_new = np.c_[X, np.ones(X.shape[0])]  # add bias term\n",
    "coeff_intercept,residuals,rank,s = np.linalg.lstsq(X_new, y, rcond=None)"
   ]
  },
  {
   "cell_type": "code",
   "execution_count": 29,
   "id": "criminal-philadelphia",
   "metadata": {},
   "outputs": [
    {
     "name": "stdout",
     "output_type": "stream",
     "text": [
      "intercept -19.080850659757925\n",
      "coefficients [ -0.49104607   0.83271938   0.0860167    0.1326091    6.85681762\n",
      "  22.98163883 -41.08437805]\n"
     ]
    }
   ],
   "source": [
    "print(\"intercept\",coeff_intercept[-1])\n",
    "print(\"coefficients\",coeff_intercept[0:-1])"
   ]
  },
  {
   "cell_type": "code",
   "execution_count": 30,
   "id": "progressive-earthquake",
   "metadata": {},
   "outputs": [
    {
     "data": {
      "text/plain": [
       "LinearRegression()"
      ]
     },
     "execution_count": 30,
     "metadata": {},
     "output_type": "execute_result"
    }
   ],
   "source": [
    "lr = LinearRegression()\n",
    "lr.fit(X,y)"
   ]
  },
  {
   "cell_type": "code",
   "execution_count": 31,
   "id": "toxic-building",
   "metadata": {},
   "outputs": [
    {
     "data": {
      "text/plain": [
       "(-19.08085065975812,\n",
       " array([ -0.49104607,   0.83271938,   0.0860167 ,   0.1326091 ,\n",
       "          6.85681762,  22.98163883, -41.08437805]))"
      ]
     },
     "execution_count": 31,
     "metadata": {},
     "output_type": "execute_result"
    }
   ],
   "source": [
    "lr.intercept_,lr.coef_"
   ]
  },
  {
   "cell_type": "code",
   "execution_count": null,
   "id": "existing-slave",
   "metadata": {},
   "outputs": [],
   "source": []
  }
 ],
 "metadata": {
  "kernelspec": {
   "display_name": "Python 3",
   "language": "python",
   "name": "python3"
  },
  "language_info": {
   "codemirror_mode": {
    "name": "ipython",
    "version": 3
   },
   "file_extension": ".py",
   "mimetype": "text/x-python",
   "name": "python",
   "nbconvert_exporter": "python",
   "pygments_lexer": "ipython3",
   "version": "3.7.9"
  }
 },
 "nbformat": 4,
 "nbformat_minor": 5
}

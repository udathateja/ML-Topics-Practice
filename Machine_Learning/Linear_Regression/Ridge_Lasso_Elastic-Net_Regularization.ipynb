{
 "cells": [
  {
   "cell_type": "markdown",
   "metadata": {},
   "source": [
    "## <span style=\"color:green\"> Regularization \n",
    "    \n",
    "Youtube Video Explanation :  https://youtu.be/dgDKuwnjH7c\n",
    "\n",
    "- It helps to solve over fitting problem in machine learning. Simple model will be a very poor generalization of data. At the same time, complex model may not perform well in test data due to over fitting. We need to choose the right model in between simple and complex model. Regularization helps to choose preferred model complexity, so that model is better at predicting. \n",
    "- Regularization is nothing but adding a penalty term to the objective function and control the model complexity using that penalty term. It can be used for many machine learning algorithms.\n",
    "\n",
    "- In a simple lay man term, when you have less data and a lot of feature's in your problem, your learned hypothesis may fit the data completely but it does not generalize your problem. By generalization I mean is your hypothesis will not give perfect results for future inputs. So basically you are adding too much details to support your hypothesis. Too much features that may have their effect in some way but not in general. So this kind of situation is called over fitting. And now you need to penalize that extra information to get optimal solution. So you apply regularization techniques. In which you are penalizing some of your features to get a balanced optimal solution."
   ]
  },
  {
   "cell_type": "markdown",
   "metadata": {},
   "source": [
    "**Bias-Variance Tradeoff** \n",
    "To summarise Bias and Variance in this context, look at the following plot,\n",
    "\n",
    "In the first plot, we have zero bias as our model perfectly fits the data during training(blue line), but has high variance while predicting the new data(orange).\n",
    "\n",
    "Whereas the second model, We have model with higher bias and less accurate during training data(blue) but it performs pretty well while predicting the unseen data(test data- orange).\n",
    "\n",
    "This trade-off between bias and variance during training to get better results for unseen predictions, is nothing but the Bias-Variance Tradeoff."
   ]
  },
  {
   "cell_type": "markdown",
   "metadata": {},
   "source": [
    "<img src=\"https://raw.githubusercontent.com/atulpatelDS/Machine_Learning/master/Images/variance_bias1.png\" width=\"540\" height=\"240\" align=\"left\"/>"
   ]
  },
  {
   "cell_type": "markdown",
   "metadata": {},
   "source": [
    "With bias-variance tradeoff, you can effectively reduce the test set errors by finding the right balance between the bias and variance of a variety of models. It is particularly critical to understanding this concept for the prediction models.\n",
    "When we have very low bias during training and high variance during testing, we say that our model has Over fitting."
   ]
  },
  {
   "cell_type": "markdown",
   "metadata": {},
   "source": [
    "<img src=\"https://raw.githubusercontent.com/atulpatelDS/Machine_Learning/master/Images/variance_bias_tradoff1.png\" width=\"340\" height=\"240\" align=\"left\"/>"
   ]
  },
  {
   "cell_type": "markdown",
   "metadata": {},
   "source": [
    "<img src=\"https://raw.githubusercontent.com/atulpatelDS/Machine_Learning/master/Images/Bias_variance_tradeoff.png\" width=\"540\" height=\"240\" align=\"left\"/>"
   ]
  },
  {
   "cell_type": "markdown",
   "metadata": {},
   "source": [
    "There are many way to over come the overfitting.We will use Regularization to over come the over fitting in model."
   ]
  },
  {
   "cell_type": "markdown",
   "metadata": {},
   "source": [
    "This is a form of regression, that constrains/ regularizes or shrinks the coefficient estimates towards zero. In other words, this technique discourages learning a more complex or flexible model, so as to avoid the risk of overfitting.\n",
    "We have 3 type of Regularization techniques.\n",
    "1. Ridge also Known as L2\n",
    "2. Lasso also Known as L1\n",
    "3. Elastic-Net"
   ]
  },
  {
   "cell_type": "markdown",
   "metadata": {},
   "source": [
    "### <span style=\"color:red\"> Ridge Regression or L2 Regularisation\n",
    "\n",
    "Ridge Regression helps us avoid the over fitting by adding the bias in the form of the penalty as know as regularization parameter(Lambda or Alpha). This penalty is added to the Cost/Loss/Error function of the regression which as we know is given by the sum of the squared errors or other errors of predictions. Ridge adds the penalty as follows,"
   ]
  },
  {
   "cell_type": "markdown",
   "metadata": {},
   "source": [
    "<img src=\"https://raw.githubusercontent.com/atulpatelDS/Machine_Learning/master/Images/Ridge.png\" width=\"340\" height=\"240\" align=\"left\"/>"
   ]
  },
  {
   "cell_type": "markdown",
   "metadata": {},
   "source": [
    "The penalty increases the value of the loss function.And Tries to minimise the variance in predictions."
   ]
  },
  {
   "cell_type": "markdown",
   "metadata": {},
   "source": [
    "### <span style=\"color:red\"> Lasso Regression L1 Regularisation\n",
    "\n",
    "Lasso is exactly same as Ridge, in the sense that it also adds penalty. But instead of the squared slope/coefficient/weight, it adds the absolute value of the slope/weight as the penalty to Sum squared Error loss function."
   ]
  },
  {
   "cell_type": "markdown",
   "metadata": {},
   "source": [
    "<img src=\"https://raw.githubusercontent.com/atulpatelDS/Machine_Learning/master/Images/Lasso.png\" width=\"240\" height=\"100\" align=\"left\"/>"
   ]
  },
  {
   "cell_type": "markdown",
   "metadata": {},
   "source": [
    "If we take various values of penalty parameter Lambda or Alpha and try to get output with both Lasso and regression regularizations in the linear regression line eguation where we have multiple variables then you will notice that ,Lasso quickly made the coefficient of X to Zero whereas Ridge could reduce it to near zero with large values of Lambda. But Ridge was unable to make it zero even with Lambda as 100 or even 1000.\n",
    "So in this way we can say that Lasso can reduce the no of unrequired features very quickly.\n"
   ]
  },
  {
   "cell_type": "markdown",
   "metadata": {},
   "source": [
    "**A tuning parameter, λ controls the strength of the L1. λ is basically the amount of shrinkage:**\n",
    "\n",
    "    When λ = 0, no parameters are eliminated. The estimate is equal to the one found with linear regression.\n",
    "    As λ increases, more and more coefficients are set to zero and eliminated (theoretically, when λ = ∞, all coefficients are eliminated).\n",
    "    As λ increases, bias increases.\n",
    "    As λ decreases, variance increases.\n",
    "\n",
    "If an intercept is included in the model, it is usually left unchanged. "
   ]
  },
  {
   "cell_type": "markdown",
   "metadata": {},
   "source": [
    "### <span style=\"color:red\"> Elastic Net Regression L1/L2 Regularisation\n",
    "\n",
    "The combining the penalties of ridge regression and lasso to get the best of both worlds. Elastic Net aims at minimizing the following loss function:"
   ]
  },
  {
   "cell_type": "markdown",
   "metadata": {},
   "source": [
    "The size of the respective penalty terms Lambda or Alpha can be tuned via cross-validation to find the model's best fit."
   ]
  },
  {
   "cell_type": "markdown",
   "metadata": {},
   "source": [
    "**elastic_net_penalty = (l1_ratio * l1_penalty) + ((1 – l1_ratio) * l2_penalty)**\n",
    "\n",
    "The ElasticNet mixing parameter\"l1_ratio\", with ``0 <= l1_ratio <= 1``. \n",
    " - For ``l1_ratio = 0`` the penalty is an L2 penalty.\n",
    " - For ``For l1_ratio = 1`` it is an L1 penalty.  \n",
    " - For ``0 < l1_ratio < 1``, the penalty is a combination of L1 and L2.\n",
    "\n",
    "For example, an alpha of 0.5 would provide a 50 percent contribution of each penalty to the loss function. An alpha value of 0 gives all weight to the L2 penalty and a value of 1 gives all weight to the L1 penalty.\n",
    "\n",
    "Another hyperparameter is provided called “lambda” that controls the weighting of the sum of both penalties to the loss function. A default value of 1.0 is used to use the fully weighted penalty; a value of 0 excludes the penalty. Very small values of lambada, such as 1e-3 or smaller, are common.\n",
    "\n",
    "elastic_net_loss = loss + (lambda * elastic_net_penalty)\n"
   ]
  },
  {
   "cell_type": "markdown",
   "metadata": {},
   "source": [
    "### <span style=\"color:red\"> Hands-on to understand the Regularisation"
   ]
  },
  {
   "cell_type": "code",
   "execution_count": 1,
   "metadata": {},
   "outputs": [],
   "source": [
    "import numpy as np"
   ]
  },
  {
   "cell_type": "code",
   "execution_count": 2,
   "metadata": {},
   "outputs": [],
   "source": [
    "data = np.array(range(1,11)).reshape(5,2)"
   ]
  },
  {
   "cell_type": "code",
   "execution_count": 3,
   "metadata": {},
   "outputs": [
    {
     "data": {
      "text/plain": [
       "array([[ 1,  2],\n",
       "       [ 3,  4],\n",
       "       [ 5,  6],\n",
       "       [ 7,  8],\n",
       "       [ 9, 10]])"
      ]
     },
     "execution_count": 3,
     "metadata": {},
     "output_type": "execute_result"
    }
   ],
   "source": [
    "data"
   ]
  },
  {
   "cell_type": "code",
   "execution_count": 4,
   "metadata": {},
   "outputs": [],
   "source": [
    "X = data[:,0:1]\n",
    "y = data[:,1:]"
   ]
  },
  {
   "cell_type": "code",
   "execution_count": 5,
   "metadata": {},
   "outputs": [],
   "source": [
    "X_test = np.array([[5],[7.5],[8.5],[7.5],[10.5]])"
   ]
  },
  {
   "cell_type": "code",
   "execution_count": 6,
   "metadata": {},
   "outputs": [
    {
     "data": {
      "image/png": "[encoded data removed]",
      "text/plain": [
       "<Figure size 432x288 with 1 Axes>"
      ]
     },
     "metadata": {
      "needs_background": "light"
     },
     "output_type": "display_data"
    }
   ],
   "source": [
    "import matplotlib.pyplot as plt\n",
    "plt.scatter(X, y, label='Train Data') \n",
    "# Ploting Line\n",
    "#plt.plot([np.min(X), np.max(X)], [np.min(y_pred), np.max(y_pred)], color='red', label='Regression best fit Line')\n",
    "plt.scatter(X_test,y,label='Test Data')\n",
    "plt.legend()\n",
    "plt.show()"
   ]
  },
  {
   "cell_type": "markdown",
   "metadata": {},
   "source": [
    "**<span style=\"color:blue\"> Linear Regression**"
   ]
  },
  {
   "cell_type": "code",
   "execution_count": 7,
   "metadata": {},
   "outputs": [],
   "source": [
    "from sklearn.linear_model import LinearRegression\n",
    "from sklearn.metrics import mean_squared_error"
   ]
  },
  {
   "cell_type": "code",
   "execution_count": 8,
   "metadata": {},
   "outputs": [],
   "source": [
    "lr = LinearRegression()\n",
    "lr.fit(X.reshape(-1, 1),y)\n",
    "y_pred = lr.predict(X.reshape(-1, 1))"
   ]
  },
  {
   "cell_type": "code",
   "execution_count": 9,
   "metadata": {},
   "outputs": [
    {
     "data": {
      "text/plain": [
       "0.0"
      ]
     },
     "execution_count": 9,
     "metadata": {},
     "output_type": "execute_result"
    }
   ],
   "source": [
    "mse = mean_squared_error(y,y_pred)\n",
    "mse_lr = round(mse,6)\n",
    "mse_lr"
   ]
  },
  {
   "cell_type": "code",
   "execution_count": 10,
   "metadata": {},
   "outputs": [
    {
     "data": {
      "text/plain": [
       "10.2"
      ]
     },
     "execution_count": 10,
     "metadata": {},
     "output_type": "execute_result"
    }
   ],
   "source": [
    "y_pred_lr_t = lr.predict(X_test)\n",
    "mse_lr_t = round(mean_squared_error(y,y_pred_lr_t),6)\n",
    "mse_lr_t"
   ]
  },
  {
   "cell_type": "code",
   "execution_count": 11,
   "metadata": {},
   "outputs": [
    {
     "data": {
      "image/png": "[encoded data removed]",
      "text/plain": [
       "<Figure size 432x288 with 1 Axes>"
      ]
     },
     "metadata": {
      "needs_background": "light"
     },
     "output_type": "display_data"
    }
   ],
   "source": [
    "import matplotlib.pyplot as plt\n",
    "plt.scatter(X, y) \n",
    "# Ploting Line\n",
    "plt.plot([np.min(X), np.max(X)], [np.min(y_pred), np.max(y_pred)], color='blue', label='Linear Reg')\n",
    "plt.scatter(X_test,y)\n",
    "plt.legend()\n",
    "plt.show()"
   ]
  },
  {
   "cell_type": "markdown",
   "metadata": {},
   "source": [
    "**<span style=\"color:blue\"> Ridge Regression or L1**"
   ]
  },
  {
   "cell_type": "code",
   "execution_count": 12,
   "metadata": {},
   "outputs": [],
   "source": [
    "from sklearn.linear_model import Ridge,RidgeCV"
   ]
  },
  {
   "cell_type": "code",
   "execution_count": 13,
   "metadata": {},
   "outputs": [],
   "source": [
    "ridge= Ridge(alpha=50)\n",
    "ridge.fit(X.reshape(-1, 1),y)\n",
    "y_pred_r = ridge.predict(X.reshape(-1, 1))"
   ]
  },
  {
   "cell_type": "code",
   "execution_count": 14,
   "metadata": {},
   "outputs": [
    {
     "data": {
      "text/plain": [
       "2.4691358024691357"
      ]
     },
     "execution_count": 14,
     "metadata": {},
     "output_type": "execute_result"
    }
   ],
   "source": [
    "mse_r = mean_squared_error(y,y_pred_r)\n",
    "mse_r"
   ]
  },
  {
   "cell_type": "code",
   "execution_count": 15,
   "metadata": {},
   "outputs": [
    {
     "data": {
      "text/plain": [
       "6.261728"
      ]
     },
     "execution_count": 15,
     "metadata": {},
     "output_type": "execute_result"
    }
   ],
   "source": [
    "y_pred_r_t = ridge.predict(X_test)\n",
    "mse_r_t = round(mean_squared_error(y,y_pred_r_t),6)\n",
    "mse_r_t"
   ]
  },
  {
   "cell_type": "code",
   "execution_count": 16,
   "metadata": {},
   "outputs": [
    {
     "data": {
      "image/png": "[encoded data removed]",
      "text/plain": [
       "<Figure size 432x288 with 1 Axes>"
      ]
     },
     "metadata": {
      "needs_background": "light"
     },
     "output_type": "display_data"
    }
   ],
   "source": [
    "import matplotlib.pyplot as plt\n",
    "plt.scatter(X, y) \n",
    "# Ploting Line\n",
    "plt.plot([np.min(X), np.max(X)], [np.min(y_pred), np.max(y_pred)], color='blue', label='Linear Reg')\n",
    "plt.plot([np.min(X), np.max(X)], [np.min(y_pred_r), np.max(y_pred_r)], color='red', label='Ridge Reg')\n",
    "plt.scatter(X_test,y)\n",
    "plt.legend()\n",
    "plt.show()"
   ]
  },
  {
   "cell_type": "markdown",
   "metadata": {},
   "source": [
    "**<span style=\"color:blue\"> Lasso Regression or L2**"
   ]
  },
  {
   "cell_type": "code",
   "execution_count": 17,
   "metadata": {},
   "outputs": [],
   "source": [
    "from sklearn.linear_model import Lasso\n",
    "lasso= Lasso(alpha=5)\n",
    "lasso.fit(X.reshape(-1, 1),y)\n",
    "y_pred_l = lasso.predict(X.reshape(-1, 1))"
   ]
  },
  {
   "cell_type": "code",
   "execution_count": 18,
   "metadata": {},
   "outputs": [
    {
     "data": {
      "text/plain": [
       "3.125"
      ]
     },
     "execution_count": 18,
     "metadata": {},
     "output_type": "execute_result"
    }
   ],
   "source": [
    "mse_l = mean_squared_error(y,y_pred_l)\n",
    "mse_l"
   ]
  },
  {
   "cell_type": "code",
   "execution_count": 19,
   "metadata": {},
   "outputs": [
    {
     "data": {
      "text/plain": [
       "6.246875"
      ]
     },
     "execution_count": 19,
     "metadata": {},
     "output_type": "execute_result"
    }
   ],
   "source": [
    "y_pred_l_t = lasso.predict(X_test)\n",
    "mse_l_t = round(mean_squared_error(y,y_pred_l_t),6)\n",
    "mse_l_t"
   ]
  },
  {
   "cell_type": "code",
   "execution_count": 20,
   "metadata": {},
   "outputs": [
    {
     "data": {
      "image/png": "[encoded data removed]",
      "text/plain": [
       "<Figure size 432x288 with 1 Axes>"
      ]
     },
     "metadata": {
      "needs_background": "light"
     },
     "output_type": "display_data"
    }
   ],
   "source": [
    "import matplotlib.pyplot as plt\n",
    "plt.scatter(X, y, label='Scatter Plot') \n",
    "# Ploting Line\n",
    "plt.plot([np.min(X), np.max(X)], [np.min(y_pred), np.max(y_pred)], color='blue', label='Linear Reg')\n",
    "plt.plot([np.min(X), np.max(X)], [np.min(y_pred_l), np.max(y_pred_l)], color='green', label='Lasso Reg')\n",
    "plt.scatter(X_test,y)\n",
    "plt.legend()\n",
    "plt.show()"
   ]
  },
  {
   "cell_type": "markdown",
   "metadata": {},
   "source": [
    "**<span style=\"color:blue\"> Elastic Net Regression or combination of L1 and L2**"
   ]
  },
  {
   "cell_type": "code",
   "execution_count": 21,
   "metadata": {},
   "outputs": [],
   "source": [
    "from sklearn.linear_model import ElasticNet\n",
    "elastic= ElasticNet(alpha=100,l1_ratio=0.5)\n",
    "elastic.fit(X.reshape(-1, 1),y)\n",
    "y_pred_e = elastic.predict(X.reshape(-1, 1))"
   ]
  },
  {
   "cell_type": "code",
   "execution_count": 22,
   "metadata": {},
   "outputs": [
    {
     "data": {
      "text/plain": [
       "8.0"
      ]
     },
     "execution_count": 22,
     "metadata": {},
     "output_type": "execute_result"
    }
   ],
   "source": [
    "mse_e = mean_squared_error(y,y_pred_e)\n",
    "mse_e"
   ]
  },
  {
   "cell_type": "code",
   "execution_count": 23,
   "metadata": {},
   "outputs": [
    {
     "data": {
      "text/plain": [
       "8.0"
      ]
     },
     "execution_count": 23,
     "metadata": {},
     "output_type": "execute_result"
    }
   ],
   "source": [
    "y_pred_e_t = elastic.predict(X_test)\n",
    "mse_e_t = round(mean_squared_error(y,y_pred_e_t),6)\n",
    "mse_e_t"
   ]
  },
  {
   "cell_type": "code",
   "execution_count": 24,
   "metadata": {},
   "outputs": [
    {
     "data": {
      "image/png": "[encoded data removed]",
      "text/plain": [
       "<Figure size 432x288 with 1 Axes>"
      ]
     },
     "metadata": {
      "needs_background": "light"
     },
     "output_type": "display_data"
    }
   ],
   "source": [
    "import matplotlib.pyplot as plt\n",
    "plt.scatter(X, y, label='Scatter Plot') \n",
    "# Ploting Line\n",
    "plt.plot([np.min(X), np.max(X)], [np.min(y_pred), np.max(y_pred)], color='blue', label='Linear Reg')\n",
    "plt.plot([np.min(X), np.max(X)], [np.min(y_pred_r), np.max(y_pred_r)], color='red', label='Ridge Reg')\n",
    "plt.plot([np.min(X), np.max(X)], [np.min(y_pred_l), np.max(y_pred_l)], color='green', label='Lasso Reg')\n",
    "plt.plot([np.min(X), np.max(X)], [np.min(y_pred_e), np.max(y_pred_e)], color='purple', label='Elastic Reg')\n",
    "plt.scatter(X_test,y)\n",
    "plt.legend()\n",
    "plt.show()"
   ]
  },
  {
   "cell_type": "markdown",
   "metadata": {},
   "source": [
    "### <span style=\"color:red\"> Lets Understand Regularisation using the concrete Dataset"
   ]
  },
  {
   "cell_type": "code",
   "execution_count": 25,
   "metadata": {},
   "outputs": [],
   "source": [
    "import numpy as np\n",
    "import pandas as pd\n",
    "from sklearn.linear_model import ElasticNet,Ridge,Lasso,LinearRegression\n",
    "from sklearn.model_selection import train_test_split,cross_val_score,GridSearchCV\n",
    "from sklearn import metrics\n",
    "import seaborn as sns\n",
    "import matplotlib.pyplot as plt\n",
    "import warnings\n",
    "warnings.filterwarnings('ignore')\n",
    "%matplotlib inline"
   ]
  },
  {
   "cell_type": "code",
   "execution_count": 26,
   "metadata": {},
   "outputs": [],
   "source": [
    "# Load a concrete regression dataset\n",
    "# from yellowbrick.datasets import load_concrete\n",
    "# https://archive.ics.uci.edu/ml/datasets/concrete+compressive+strength\n",
    "from yellowbrick.datasets import load_concrete\n",
    "X , Y = load_concrete()\n",
    "# Create the train and test \n",
    "X_train, X_test, y_train, y_test= train_test_split(X, Y, test_size=0.2, random_state=42)"
   ]
  },
  {
   "cell_type": "code",
   "execution_count": 27,
   "metadata": {},
   "outputs": [
    {
     "name": "stdout",
     "output_type": "stream",
     "text": [
      "(1030, 8)\n",
      "(1030,)\n",
      "<class 'pandas.core.frame.DataFrame'>\n",
      "<class 'pandas.core.series.Series'>\n"
     ]
    }
   ],
   "source": [
    "print(X.shape)\n",
    "print(Y.shape)\n",
    "print(type(X))\n",
    "print(type(Y))"
   ]
  },
  {
   "cell_type": "code",
   "execution_count": 28,
   "metadata": {},
   "outputs": [],
   "source": [
    "# Lets Split without scalling data to just verify later the accuracy\n",
    "X_train,X_test,Y_train,Y_test = train_test_split(X,Y,test_size = 0.3, random_state = 42)"
   ]
  },
  {
   "cell_type": "code",
   "execution_count": 29,
   "metadata": {},
   "outputs": [
    {
     "name": "stdout",
     "output_type": "stream",
     "text": [
      "(721, 8)\n",
      "(721,)\n",
      "(309, 8)\n",
      "(309,)\n"
     ]
    }
   ],
   "source": [
    "print(X_train.shape)\n",
    "print(Y_train.shape)\n",
    "print(X_test.shape)\n",
    "print(Y_test.shape)"
   ]
  },
  {
   "cell_type": "markdown",
   "metadata": {},
   "source": [
    "### Linear Regression Model"
   ]
  },
  {
   "cell_type": "code",
   "execution_count": 30,
   "metadata": {},
   "outputs": [],
   "source": [
    "## apply linear regression\n",
    "lin_reg = LinearRegression()\n",
    "MSE = abs(cross_val_score(lin_reg,X,Y,scoring=\"neg_mean_squared_error\",cv = 5))"
   ]
  },
  {
   "cell_type": "code",
   "execution_count": 31,
   "metadata": {},
   "outputs": [
    {
     "name": "stdout",
     "output_type": "stream",
     "text": [
      "Linear Regression Model MSE : 128.11293019581686\n"
     ]
    }
   ],
   "source": [
    "## lets take the mean of MSE and display result\n",
    "mean_MSE = np.mean(MSE)\n",
    "print(\"Linear Regression Model MSE : {}\".format(mean_MSE))"
   ]
  },
  {
   "cell_type": "markdown",
   "metadata": {},
   "source": [
    "### Ridge Regression Model"
   ]
  },
  {
   "cell_type": "code",
   "execution_count": 32,
   "metadata": {},
   "outputs": [
    {
     "data": {
      "text/plain": [
       "GridSearchCV(cv=5, estimator=Ridge(),\n",
       "             param_grid={'alpha': [1e-15, 1e-10, 1e-08, 1e-05, 0.01, 1, 5, 10,\n",
       "                                   20, 30, 40, 50, 70, 100]},\n",
       "             scoring='neg_mean_squared_error')"
      ]
     },
     "execution_count": 32,
     "metadata": {},
     "output_type": "execute_result"
    }
   ],
   "source": [
    "## apply ridge linear regression\n",
    "## Now we will use GridsearchCV , This will allow us to automatically perform cross-validation \n",
    "## with a range of different regularization parameters in order to find the optimal value of \n",
    "## alpha(regularization parameter)\n",
    "\n",
    "ridge = Ridge()\n",
    "parameter = {\"alpha\":[1e-15,1e-10,1e-8,1e-5,1e-2,1,5,10,20,30,40,50,70,100]}\n",
    "ridge_reg = GridSearchCV(ridge,param_grid=parameter,cv=5,scoring=\"neg_mean_squared_error\")\n",
    "ridge_reg.fit(X,Y)"
   ]
  },
  {
   "cell_type": "code",
   "execution_count": 33,
   "metadata": {},
   "outputs": [
    {
     "name": "stdout",
     "output_type": "stream",
     "text": [
      "Ridge Regression Model MSE : 127.95500167406576,Best Parameter{'alpha': 100}\n",
      "\n"
     ]
    }
   ],
   "source": [
    "### Now get the best MSE and best parameter\n",
    "print(\"Ridge Regression Model MSE : {},Best Parameter{}\\n\".\n",
    "      format(abs(ridge_reg.best_score_),ridge_reg.best_params_))"
   ]
  },
  {
   "cell_type": "markdown",
   "metadata": {},
   "source": [
    "We can see that there is slightly improvement upon the basic linear regression."
   ]
  },
  {
   "cell_type": "markdown",
   "metadata": {},
   "source": [
    "### Lasso Regression Model"
   ]
  },
  {
   "cell_type": "code",
   "execution_count": 34,
   "metadata": {},
   "outputs": [
    {
     "data": {
      "text/plain": [
       "GridSearchCV(cv=5, estimator=Lasso(),\n",
       "             param_grid={'alpha': [1e-10, 1e-05, 0.01, 1, 5, 10, 20, 30, 40, 50,\n",
       "                                   70, 100, 110, 120, 130, 140, 150]},\n",
       "             scoring='neg_mean_squared_error')"
      ]
     },
     "execution_count": 34,
     "metadata": {},
     "output_type": "execute_result"
    }
   ],
   "source": [
    "## apply Lasso linear regression\n",
    "lasso = Lasso()\n",
    "parameter = {\"alpha\":[1e-10,1e-5,1e-2,1,5,10,20,30,40,50,70,100,110,120,130,140,150]}\n",
    "lasso_reg = GridSearchCV(lasso,param_grid=parameter,cv=5,scoring=\"neg_mean_squared_error\")\n",
    "lasso_reg.fit(X,Y)"
   ]
  },
  {
   "cell_type": "code",
   "execution_count": 35,
   "metadata": {},
   "outputs": [
    {
     "name": "stdout",
     "output_type": "stream",
     "text": [
      "Lasso Regression Model MSE : 122.61666256703418,Best Parameter{'alpha': 10}\n",
      "\n"
     ]
    }
   ],
   "source": [
    "### Now get the best MSE and best parameter\n",
    "print(\"Lasso Regression Model MSE : {},Best Parameter{}\\n\".format(abs(lasso_reg.best_score_),lasso_reg.best_params_))"
   ]
  },
  {
   "cell_type": "markdown",
   "metadata": {},
   "source": [
    "We can see that there is slightly improvement upon the basic linear regression."
   ]
  },
  {
   "cell_type": "markdown",
   "metadata": {},
   "source": [
    "### Elastic-Net Regression Model"
   ]
  },
  {
   "cell_type": "code",
   "execution_count": 36,
   "metadata": {},
   "outputs": [
    {
     "data": {
      "text/plain": [
       "GridSearchCV(cv=5, estimator=ElasticNet(),\n",
       "             param_grid={'alpha': [1e-05, 0.01, 1, 5, 10, 20, 30, 40, 50, 70,\n",
       "                                   100, 110, 120, 130, 140, 150],\n",
       "                         'l1_ratio': [0.4, 0.5, 0.6],\n",
       "                         'max_iter': [1000, 1500, 2000, 3000, 5000]},\n",
       "             scoring='neg_mean_squared_error')"
      ]
     },
     "execution_count": 36,
     "metadata": {},
     "output_type": "execute_result"
    }
   ],
   "source": [
    "## apply Elasticnet linear regression\n",
    "elastic = ElasticNet()\n",
    "parameter = {\"max_iter\":[1000,1500,2000,3000,5000],\"l1_ratio\":[0.4,0.5,0.6],\n",
    "             \"alpha\":[1e-5,1e-2,1,5,10,20,30,40,50,70,100,110,120,130,140,150]}\n",
    "elastic_reg = GridSearchCV(elastic,param_grid=parameter,cv=5,scoring=\"neg_mean_squared_error\",)\n",
    "elastic_reg.fit(X,Y)"
   ]
  },
  {
   "cell_type": "code",
   "execution_count": 37,
   "metadata": {},
   "outputs": [
    {
     "name": "stdout",
     "output_type": "stream",
     "text": [
      "Elasticnet Regression Model MSE : 122.50270787162643,Best Parameter{'alpha': 10, 'l1_ratio': 0.6, 'max_iter': 1000}\n",
      "\n"
     ]
    }
   ],
   "source": [
    "### Now get the best MSE and best parameter\n",
    "print(\"Elasticnet Regression Model MSE : {},Best Parameter{}\\n\".format(abs(elastic_reg.best_score_),elastic_reg.best_params_))"
   ]
  },
  {
   "cell_type": "markdown",
   "metadata": {},
   "source": [
    "As you can see that we are getting more geranilized form of model using Elastic-Net becuase there are more variance in score as we are getting from Ridge and Lasso.\n",
    "So It is better to use Elastic-Net Regression to get Hybrid Model which will not be to biased with nes unseen data.\n",
    "That will work better."
   ]
  },
  {
   "cell_type": "markdown",
   "metadata": {},
   "source": [
    "#### Lets use train test split and check the distribution of predicted target value"
   ]
  },
  {
   "cell_type": "code",
   "execution_count": 38,
   "metadata": {},
   "outputs": [],
   "source": [
    "Y_pred_ridge = ridge_reg.predict(X_test)\n",
    "Y_pred_lasso = lasso_reg.predict(X_test)\n",
    "Y_pred_elastic_net = elastic_reg.predict(X_test)"
   ]
  },
  {
   "cell_type": "code",
   "execution_count": 39,
   "metadata": {},
   "outputs": [
    {
     "data": {
      "image/png": "[encoded data removed]",
      "text/plain": [
       "<Figure size 1008x288 with 3 Axes>"
      ]
     },
     "metadata": {},
     "output_type": "display_data"
    }
   ],
   "source": [
    "## Plot the distribution plot among these predicted values\n",
    "plt.figure(figsize= (14,4))\n",
    "plt.subplot(1, 3, 1)\n",
    "sns.distplot(Y_pred_ridge)\n",
    "plt.title(\"Ridge\")\n",
    "\n",
    "plt.subplot(1, 3, 2)\n",
    "plt.title(\"Lasso\")\n",
    "sns.distplot(Y_pred_lasso)\n",
    "\n",
    "plt.subplot(1, 3, 3)\n",
    "plt.title(\"Elastic-Net\")\n",
    "sns.distplot(Y_pred_elastic_net)\n",
    "plt.tight_layout()\n",
    "plt.show()"
   ]
  },
  {
   "cell_type": "markdown",
   "metadata": {},
   "source": [
    "We can observer that Predicted output value is better spread using Elastic-Net Model"
   ]
  },
  {
   "cell_type": "code",
   "execution_count": null,
   "metadata": {},
   "outputs": [],
   "source": []
  }
 ],
 "metadata": {
  "kernelspec": {
   "display_name": "Python 3",
   "language": "python",
   "name": "python3"
  },
  "language_info": {
   "codemirror_mode": {
    "name": "ipython",
    "version": 3
   },
   "file_extension": ".py",
   "mimetype": "text/x-python",
   "name": "python",
   "nbconvert_exporter": "python",
   "pygments_lexer": "ipython3",
   "version": "3.7.9"
  }
 },
 "nbformat": 4,
 "nbformat_minor": 4
}

{
 "cells": [
  {
   "cell_type": "markdown",
   "id": "individual-gospel",
   "metadata": {},
   "source": [
    "## <span style=\"color:blue\"> Linear Regression using Gradient Descent"
   ]
  },
  {
   "cell_type": "markdown",
   "id": "complimentary-animation",
   "metadata": {},
   "source": [
    "Video Explanation :  https://youtu.be/CzW0w7guvFo"
   ]
  },
  {
   "cell_type": "code",
   "execution_count": 1,
   "id": "charged-resort",
   "metadata": {},
   "outputs": [],
   "source": [
    "import pandas as pd\n",
    "import matplotlib.pyplot as plt\n",
    "import numpy as np\n",
    "import seaborn as sns\n",
    "from sklearn.linear_model import LinearRegression\n",
    "from sklearn.metrics import mean_squared_error"
   ]
  },
  {
   "cell_type": "code",
   "execution_count": 2,
   "id": "ignored-mediterranean",
   "metadata": {},
   "outputs": [],
   "source": [
    "X = [3,4,6,12,9,15,10,1,8,13] ## Experience\n",
    "y = [16,29,43,65,51,89,57,9,53,68]  ## Salary"
   ]
  },
  {
   "cell_type": "code",
   "execution_count": 3,
   "id": "uniform-title",
   "metadata": {},
   "outputs": [],
   "source": [
    "#X = [3,4,6]\n",
    "#y = [16,29,43]"
   ]
  },
  {
   "cell_type": "code",
   "execution_count": 4,
   "id": "popular-snapshot",
   "metadata": {},
   "outputs": [
    {
     "data": {
      "image/png": "[encoded data removed]",
      "text/plain": [
       "<Figure size 432x288 with 1 Axes>"
      ]
     },
     "metadata": {
      "needs_background": "light"
     },
     "output_type": "display_data"
    }
   ],
   "source": [
    "plt.scatter(X,y)\n",
    "plt.xlabel('Experience')\n",
    "plt.ylabel('Salary')\n",
    "plt.grid(alpha=0.25)\n",
    "plt.show()"
   ]
  },
  {
   "cell_type": "code",
   "execution_count": 5,
   "id": "israeli-native",
   "metadata": {},
   "outputs": [],
   "source": [
    "# Lets lienar regession line is y = mx + c\n",
    "# lets \n",
    "# y = mx +c\n",
    "c=0\n",
    "# # y_pred = mx\n",
    "# calcaulating the y_out we will mutiply the original X values by the slope to produce y_out values for each X\n",
    "def multiply_matrix(x,m,c):\n",
    "    y_out = []\n",
    "    for i in range(len(x)):\n",
    "        y_out.append(x[i]*m + c)\n",
    "    return y_out"
   ]
  },
  {
   "cell_type": "code",
   "execution_count": 6,
   "id": "nonprofit-cargo",
   "metadata": {},
   "outputs": [
    {
     "data": {
      "text/plain": [
       "[3, 4, 6, 12, 9, 15, 10, 1, 8, 13]"
      ]
     },
     "execution_count": 6,
     "metadata": {},
     "output_type": "execute_result"
    }
   ],
   "source": [
    "# Lets \n",
    "c = 0\n",
    "m = 1\n",
    "y_m1=multiply_matrix(X,m,c)\n",
    "y_m1"
   ]
  },
  {
   "cell_type": "code",
   "execution_count": 7,
   "id": "sensitive-mirror",
   "metadata": {},
   "outputs": [
    {
     "data": {
      "image/png": "[encoded data removed]",
      "text/plain": [
       "<Figure size 432x288 with 1 Axes>"
      ]
     },
     "metadata": {
      "needs_background": "light"
     },
     "output_type": "display_data"
    }
   ],
   "source": [
    "# line at m =1\n",
    "plt.scatter(X, y,label='Scatter Plot') \n",
    "plt.plot([min(X), max(X)], [min(y_m1), max(y_m1)], color='red',label='Regression best fit Line at m=1')\n",
    "plt.xlabel('Experience')\n",
    "plt.ylabel('Salary')\n",
    "plt.grid(alpha=0.25)\n",
    "plt.legend()\n",
    "plt.show()"
   ]
  },
  {
   "cell_type": "code",
   "execution_count": 8,
   "id": "worse-lighter",
   "metadata": {},
   "outputs": [],
   "source": [
    "# calculate cost function 1/n*sum(y-y_out)^2 by looping each sample\n",
    "# calculate mse 1/n*sum(y-y_out)^2 by looping each sample\n",
    "def mse(actual, predicted):\n",
    "    sum_error = 0.0\n",
    "    # loop over all values\n",
    "    for i in range(len(actual)):\n",
    "        # the error is the sum of (actual - prediction)^2\n",
    "        SSE =  (actual[i] - predicted[i])**2\n",
    "        sum_error =  sum_error + SSE\n",
    "    mean_error = sum_error / float(len(actual))\n",
    "    return (mean_error)"
   ]
  },
  {
   "cell_type": "code",
   "execution_count": 9,
   "id": "governing-kansas",
   "metadata": {},
   "outputs": [
    {
     "data": {
      "text/plain": [
       "1953.5"
      ]
     },
     "execution_count": 9,
     "metadata": {},
     "output_type": "execute_result"
    }
   ],
   "source": [
    "mse_m1 = mse(y,y_m1)\n",
    "mse_m1"
   ]
  },
  {
   "cell_type": "code",
   "execution_count": 10,
   "id": "subtle-battlefield",
   "metadata": {},
   "outputs": [
    {
     "name": "stdout",
     "output_type": "stream",
     "text": [
      "mse for m : 0 and c : 0  is  2845.6\n"
     ]
    },
    {
     "data": {
      "image/png": "[encoded data removed]",
      "text/plain": [
       "<Figure size 216x144 with 1 Axes>"
      ]
     },
     "metadata": {
      "needs_background": "light"
     },
     "output_type": "display_data"
    },
    {
     "name": "stdout",
     "output_type": "stream",
     "text": [
      "mse for m : 1 and c : 0  is  1953.5\n"
     ]
    },
    {
     "data": {
      "image/png": "[encoded data removed]",
      "text/plain": [
       "<Figure size 216x144 with 1 Axes>"
      ]
     },
     "metadata": {
      "needs_background": "light"
     },
     "output_type": "display_data"
    },
    {
     "name": "stdout",
     "output_type": "stream",
     "text": [
      "mse for m : 2 and c : 0  is  1230.4\n"
     ]
    },
    {
     "data": {
      "image/png": "[encoded data removed]",
      "text/plain": [
       "<Figure size 216x144 with 1 Axes>"
      ]
     },
     "metadata": {
      "needs_background": "light"
     },
     "output_type": "display_data"
    },
    {
     "name": "stdout",
     "output_type": "stream",
     "text": [
      "mse for m : 3 and c : 0  is  676.3\n"
     ]
    },
    {
     "data": {
      "image/png": "[encoded data removed]",
      "text/plain": [
       "<Figure size 216x144 with 1 Axes>"
      ]
     },
     "metadata": {
      "needs_background": "light"
     },
     "output_type": "display_data"
    },
    {
     "name": "stdout",
     "output_type": "stream",
     "text": [
      "mse for m : 4 and c : 0  is  291.2\n"
     ]
    },
    {
     "data": {
      "image/png": "[encoded data removed]",
      "text/plain": [
       "<Figure size 216x144 with 1 Axes>"
      ]
     },
     "metadata": {
      "needs_background": "light"
     },
     "output_type": "display_data"
    },
    {
     "name": "stdout",
     "output_type": "stream",
     "text": [
      "mse for m : 5 and c : 0  is  75.1\n"
     ]
    },
    {
     "data": {
      "image/png": "[encoded data removed]",
      "text/plain": [
       "<Figure size 216x144 with 1 Axes>"
      ]
     },
     "metadata": {
      "needs_background": "light"
     },
     "output_type": "display_data"
    },
    {
     "name": "stdout",
     "output_type": "stream",
     "text": [
      "mse for m : 6 and c : 0  is  28.0\n"
     ]
    },
    {
     "data": {
      "image/png": "[encoded data removed]",
      "text/plain": [
       "<Figure size 216x144 with 1 Axes>"
      ]
     },
     "metadata": {
      "needs_background": "light"
     },
     "output_type": "display_data"
    },
    {
     "name": "stdout",
     "output_type": "stream",
     "text": [
      "mse for m : 7 and c : 0  is  149.9\n"
     ]
    },
    {
     "data": {
      "image/png": "[encoded data removed]",
      "text/plain": [
       "<Figure size 216x144 with 1 Axes>"
      ]
     },
     "metadata": {
      "needs_background": "light"
     },
     "output_type": "display_data"
    },
    {
     "name": "stdout",
     "output_type": "stream",
     "text": [
      "mse for m : 8 and c : 0  is  440.8\n"
     ]
    },
    {
     "data": {
      "image/png": "[encoded data removed]",
      "text/plain": [
       "<Figure size 216x144 with 1 Axes>"
      ]
     },
     "metadata": {
      "needs_background": "light"
     },
     "output_type": "display_data"
    }
   ],
   "source": [
    "# calculate mse for different m values ,lets take m = range(0,9)\n",
    "mse_values = []  # store the MSE for each m where m = range(0,9)\n",
    "m = range(0,9)\n",
    "c = 0\n",
    "for i in m: \n",
    "    y_out_values = multiply_matrix(X, m[i],c)\n",
    "    mse_values.append(mse(y, y_out_values))\n",
    "    print(\"mse for m :\",m[i], \"and c :\",c ,\" is \", mse(y, y_out_values))\n",
    "    plt.figure(figsize=(3,2))\n",
    "    plt.scatter(X, y,label='Scatter Plot') \n",
    "    plt.plot([min(X), max(X)], [min(y_out_values), max(y_out_values)], color='red',label='regression line')\n",
    "    plt.xlabel('Experience')\n",
    "    plt.ylabel('Salary')\n",
    "    plt.grid(alpha=0.25)\n",
    "    #plt.legend()\n",
    "    plt.show()"
   ]
  },
  {
   "cell_type": "code",
   "execution_count": 11,
   "id": "approved-launch",
   "metadata": {},
   "outputs": [
    {
     "data": {
      "text/plain": [
       "<matplotlib.legend.Legend at 0x1f77a0f3488>"
      ]
     },
     "execution_count": 11,
     "metadata": {},
     "output_type": "execute_result"
    },
    {
     "data": {
      "image/png": "[encoded data removed]",
      "text/plain": [
       "<Figure size 432x288 with 1 Axes>"
      ]
     },
     "metadata": {
      "needs_background": "light"
     },
     "output_type": "display_data"
    }
   ],
   "source": [
    "plt.plot(m,mse_values,label = \"cost function line\")\n",
    "plt.xlabel('slope')\n",
    "plt.ylabel('Cost Function')\n",
    "plt.grid(alpha=0.25)\n",
    "plt.legend()"
   ]
  },
  {
   "cell_type": "code",
   "execution_count": 12,
   "id": "passive-guarantee",
   "metadata": {},
   "outputs": [
    {
     "data": {
      "text/plain": [
       "28.0"
      ]
     },
     "execution_count": 12,
     "metadata": {},
     "output_type": "execute_result"
    }
   ],
   "source": [
    "np.min(mse_values)  # at this MSE we get the best bit line when m = 5 and c =0\n",
    "# but we have to iterate the both m & c to get the best bit line taht we can get with the help \n",
    "# of gradient descent(taking derivative of MSE wrt m and c)"
   ]
  },
  {
   "cell_type": "markdown",
   "id": "crazy-brick",
   "metadata": {},
   "source": [
    "<b>Cost Function</b>\n",
    "\n",
    "\\begin{equation}\n",
    "Linear Equation ==> y = mx + c\n",
    "\\end{equation}\n",
    "\n",
    "\\begin{equation}\n",
    "J(x) = 1/n \\sum_{i=1}^{n} (y^{(i)} - y^{(i)}predicted)^2 \n",
    "\\end{equation}\n",
    "\n",
    "\\begin{equation}\n",
    "y^{(i)}predicted = (mx^{(i)} + c)\n",
    "\\end{equation}\n",
    "\n",
    "\\begin{equation}\n",
    "J(x) = 1/n \\sum_{i=1}^{n} (y^{(i)} - (mx^{(i)} + c))^2 \n",
    "\\end{equation}\n",
    "\n",
    "<b>Gradient</b>\n",
    "\n",
    "**Derivative of cost function with respect to   m   ==>  slope**\n",
    "\\begin{equation}\n",
    "\\frac{\\partial J(x^{(i)})}{\\partial m} = -2/n\\sum_{i=1}^{n}(x^{(i)}).(y^{(i)} - (mx^{(i)} + c))\n",
    "\\end{equation}\n",
    "\n",
    "**Derivative of cost function with respect to   c   ==>  intercept**\n",
    "\\begin{equation}\n",
    "\\frac{\\partial J(x^{(i)})}{\\partial c} = -2/n\\sum_{i=1}^{n}(y^{(i)} - (mx^{(i)} + c))\n",
    "\\end{equation}\n",
    "\n",
    "**Why do we take derivative?**\n",
    "\n",
    "To get the direction of where is global minimum. If we are on left side of minimum value of parabola then the derivate is negative and negative sign before derivate will make the new value of X go right and thus more closer to minimum value. Vice versa for right side."
   ]
  },
  {
   "cell_type": "code",
   "execution_count": 13,
   "id": "satisfied-voice",
   "metadata": {},
   "outputs": [],
   "source": [
    "import numpy as np\n",
    "def Simple_LinearRegression_Gradient_Descent(x,y,epochs,learning_rate,n):\n",
    "    m_curr = c_curr = 0\n",
    "    for i in range(epochs):\n",
    "        y_pred = m_curr * x + c_curr\n",
    "        ## MSE equation == cost_function\n",
    "        cost = (1/n) * sum([val**2 for val in (y-y_pred)])\n",
    "        md = -(2/n)*sum(x*(y-y_pred))\n",
    "        cd = -(2/n)*sum(y-y_pred)\n",
    "        m_curr = m_curr - learning_rate * md  # step_size = learning_rate * md \n",
    "        c_curr = c_curr - learning_rate * cd  # # step_size = learning_rate * cd \n",
    "        print('>epoch=%d, m=%.3f,c=%.3f, md=%.3f,cd=%.3f,step_size_m=%.3f,step_size_c=%.3f,cost=%.3f' % \n",
    "              (i,m_curr,c_curr, md,cd,md*learning_rate,cd*learning_rate,(cost)))"
   ]
  },
  {
   "cell_type": "code",
   "execution_count": 14,
   "id": "fuzzy-performer",
   "metadata": {},
   "outputs": [
    {
     "name": "stdout",
     "output_type": "stream",
     "text": [
      ">epoch=0, m=0.977,c=0.096, md=-976.600,cd=-96.000,step_size_m=-0.977,step_size_c=-0.096,cost=2845.600\n",
      ">epoch=1, m=1.787,c=0.176, md=-809.999,cd=-79.987,step_size_m=-0.810,step_size_c=-0.080,cost=1964.756\n",
      ">epoch=2, m=2.458,c=0.243, md=-671.814,cd=-66.705,step_size_m=-0.672,step_size_c=-0.067,cost=1358.756\n",
      ">epoch=3, m=3.016,c=0.298, md=-557.197,cd=-55.688,step_size_m=-0.557,step_size_c=-0.056,cost=941.840\n",
      ">epoch=4, m=3.478,c=0.345, md=-462.128,cd=-46.550,step_size_m=-0.462,step_size_c=-0.047,cost=655.012\n",
      ">epoch=5, m=3.861,c=0.384, md=-383.274,cd=-38.971,step_size_m=-0.383,step_size_c=-0.039,cost=457.679\n",
      ">epoch=6, m=4.179,c=0.417, md=-317.870,cd=-32.684,step_size_m=-0.318,step_size_c=-0.033,cost=321.917\n",
      ">epoch=7, m=4.443,c=0.444, md=-263.620,cd=-27.469,step_size_m=-0.264,step_size_c=-0.027,cost=228.515\n",
      ">epoch=8, m=4.661,c=0.467, md=-218.623,cd=-23.143,step_size_m=-0.219,step_size_c=-0.023,cost=164.256\n",
      ">epoch=9, m=4.842,c=0.487, md=-181.301,cd=-19.555,step_size_m=-0.181,step_size_c=-0.020,cost=120.045\n",
      ">epoch=10, m=4.993,c=0.503, md=-150.344,cd=-16.579,step_size_m=-0.150,step_size_c=-0.017,cost=89.628\n",
      ">epoch=11, m=5.117,c=0.517, md=-124.668,cd=-14.110,step_size_m=-0.125,step_size_c=-0.014,cost=68.700\n",
      ">epoch=12, m=5.221,c=0.530, md=-103.370,cd=-12.063,step_size_m=-0.103,step_size_c=-0.012,cost=54.301\n",
      ">epoch=13, m=5.307,c=0.540, md=-85.705,cd=-10.364,step_size_m=-0.086,step_size_c=-0.010,cost=44.393\n",
      ">epoch=14, m=5.378,c=0.549, md=-71.053,cd=-8.955,step_size_m=-0.071,step_size_c=-0.009,cost=37.576\n",
      ">epoch=15, m=5.436,c=0.557, md=-58.900,cd=-7.786,step_size_m=-0.059,step_size_c=-0.008,cost=32.884\n",
      ">epoch=16, m=5.485,c=0.563, md=-48.820,cd=-6.816,step_size_m=-0.049,step_size_c=-0.007,cost=29.655\n",
      ">epoch=17, m=5.526,c=0.569, md=-40.459,cd=-6.011,step_size_m=-0.040,step_size_c=-0.006,cost=27.432\n",
      ">epoch=18, m=5.559,c=0.575, md=-33.524,cd=-5.344,step_size_m=-0.034,step_size_c=-0.005,cost=25.901\n",
      ">epoch=19, m=5.587,c=0.580, md=-27.772,cd=-4.790,step_size_m=-0.028,step_size_c=-0.005,cost=24.846\n",
      ">epoch=20, m=5.610,c=0.584, md=-23.001,cd=-4.331,step_size_m=-0.023,step_size_c=-0.004,cost=24.120\n",
      ">epoch=21, m=5.629,c=0.588, md=-19.043,cd=-3.949,step_size_m=-0.019,step_size_c=-0.004,cost=23.618\n",
      ">epoch=22, m=5.645,c=0.591, md=-15.761,cd=-3.633,step_size_m=-0.016,step_size_c=-0.004,cost=23.272\n",
      ">epoch=23, m=5.658,c=0.595, md=-13.039,cd=-3.370,step_size_m=-0.013,step_size_c=-0.003,cost=23.032\n",
      ">epoch=24, m=5.669,c=0.598, md=-10.781,cd=-3.153,step_size_m=-0.011,step_size_c=-0.003,cost=22.866\n",
      ">epoch=25, m=5.678,c=0.601, md=-8.908,cd=-2.972,step_size_m=-0.009,step_size_c=-0.003,cost=22.750\n",
      ">epoch=26, m=5.685,c=0.604, md=-7.354,cd=-2.821,step_size_m=-0.007,step_size_c=-0.003,cost=22.669\n",
      ">epoch=27, m=5.691,c=0.606, md=-6.065,cd=-2.697,step_size_m=-0.006,step_size_c=-0.003,cost=22.612\n",
      ">epoch=28, m=5.696,c=0.609, md=-4.997,cd=-2.593,step_size_m=-0.005,step_size_c=-0.003,cost=22.571\n",
      ">epoch=29, m=5.700,c=0.612, md=-4.110,cd=-2.507,step_size_m=-0.004,step_size_c=-0.003,cost=22.542\n"
     ]
    }
   ],
   "source": [
    "x = np.array([3,4,6,12,9,15,10,1,8,13])\n",
    "y = np.array([16,29,43,65,51,89,57,9,53,68])\n",
    "epochs = 30\n",
    "n = len(x)\n",
    "learning_rate = 0.001\n",
    "Simple_LinearRegression_Gradient_Descent(x,y,epochs,learning_rate,n)"
   ]
  },
  {
   "cell_type": "code",
   "execution_count": 15,
   "id": "loved-mexico",
   "metadata": {},
   "outputs": [],
   "source": [
    "## Plot the cost with each iteration\n",
    "import matplotlib.pyplot as plt\n",
    "def Simple_LinearRegression_Gradient_Descent_cost_plot(x,y,epochs,learning_rate,n):\n",
    "    m_curr = 0\n",
    "    c_curr = 0\n",
    "    iter = epochs\n",
    "    cost_val = [] # list to store the cost in each iteration\n",
    "    intercept = []\n",
    "    coefficient = []\n",
    "    for i in range(iter):\n",
    "        y_pred = (m_curr * x) + c_curr\n",
    "        cost = 1/n * sum([data**2 for data in (y - y_pred)])\n",
    "        cost_val.append(cost) ## append the cost_val \n",
    "        md = -(2/n) * sum(x * (y - y_pred))\n",
    "        cd = -(2/n) * sum(y - y_pred)\n",
    "        m_curr = m_curr - (learning_rate * md)  # \n",
    "        coefficient.append(m_curr)\n",
    "        c_curr = c_curr - (learning_rate * cd)\n",
    "        intercept.append(c_curr)\n",
    "    return intercept,coefficient,cost_val"
   ]
  },
  {
   "cell_type": "code",
   "execution_count": 16,
   "id": "japanese-vienna",
   "metadata": {},
   "outputs": [
    {
     "data": {
      "text/plain": [
       "<matplotlib.legend.Legend at 0x1f77a183e88>"
      ]
     },
     "execution_count": 16,
     "metadata": {},
     "output_type": "execute_result"
    },
    {
     "data": {
      "image/png": "[encoded data removed]",
      "text/plain": [
       "<Figure size 360x360 with 1 Axes>"
      ]
     },
     "metadata": {
      "needs_background": "light"
     },
     "output_type": "display_data"
    }
   ],
   "source": [
    "x = np.array([3,4,6,12,9,15,10,1,8,13])\n",
    "y = np.array([16,29,43,65,51,89,57,9,53,68])\n",
    "epochs = 100\n",
    "n = len(x)\n",
    "learning_rate = 0.001\n",
    "intercept,coefficient,cost_val = Simple_LinearRegression_Gradient_Descent_cost_plot(x,y,epochs,learning_rate,n)\n",
    "\n",
    "plt.figure(figsize=(5,5))\n",
    "plt.plot(coefficient, cost_val, '.r',color='blue',label=\"cost function curve\")\n",
    "plt.xlabel('coefficient')\n",
    "plt.ylabel('cost_val')\n",
    "plt.grid(alpha=0.25)\n",
    "plt.legend()"
   ]
  },
  {
   "cell_type": "code",
   "execution_count": 17,
   "id": "logical-america",
   "metadata": {},
   "outputs": [],
   "source": [
    "## Now plot grapg to show the regression best fit line \n",
    "import matplotlib.pyplot as plt\n",
    "%matplotlib inline\n",
    "\n",
    "def Simple_LinearRegression_Gradient_Descent_best_fit_line(x,y,epochs,learning_rate,n):\n",
    "    m_curr = 0\n",
    "    c_curr = 0\n",
    "    iter = epochs\n",
    "    plt.scatter(x,y,color = \"red\",label='Scatter Plot')\n",
    "    for i in range(iter):\n",
    "        ## y = mx + c\n",
    "        y_pred = m_curr * x + c_curr\n",
    "        ## MSE equation == cost_function\n",
    "        cost = 1/n*sum([val**2 for val in (y - y_pred)])\n",
    "        ## lets take derivative\n",
    "        md = -2/n * sum(x*(y - y_pred))\n",
    "        cd = -2/n * sum(y - y_pred)\n",
    "        plt.plot(x,y_pred,color = \"blue\",linewidth='.1') \n",
    "        plt.xlabel('Experience')\n",
    "        plt.ylabel('Salary')\n",
    "        #plt.style.use('fivethirtyeight')\n",
    "        #plt.legend()\n",
    "        m_curr = m_curr - learning_rate * md\n",
    "        c_curr = c_curr - learning_rate * cd      "
   ]
  },
  {
   "cell_type": "code",
   "execution_count": 18,
   "id": "genuine-register",
   "metadata": {},
   "outputs": [
    {
     "data": {
      "image/png": "[encoded data removed]",
      "text/plain": [
       "<Figure size 432x288 with 1 Axes>"
      ]
     },
     "metadata": {
      "needs_background": "light"
     },
     "output_type": "display_data"
    }
   ],
   "source": [
    "#x = np.array([3,4,6,12,9,15,10,1,8,13])\n",
    "#y = np.array([16,29,43,65,51,89,57,9,53,68])\n",
    "epochs = 100\n",
    "n = len(x)\n",
    "learning_rate = 0.001\n",
    "Simple_LinearRegression_Gradient_Descent_best_fit_line(x,y,epochs,learning_rate,n)"
   ]
  },
  {
   "cell_type": "code",
   "execution_count": 19,
   "id": "absolute-northwest",
   "metadata": {},
   "outputs": [
    {
     "data": {
      "text/plain": [
       "LinearRegression()"
      ]
     },
     "execution_count": 19,
     "metadata": {},
     "output_type": "execute_result"
    }
   ],
   "source": [
    "lr = LinearRegression()\n",
    "lr.fit(x.reshape(-1,1),y)"
   ]
  },
  {
   "cell_type": "code",
   "execution_count": 20,
   "id": "described-offset",
   "metadata": {},
   "outputs": [
    {
     "data": {
      "text/plain": [
       "(5.334568554790884, array([5.26733722]))"
      ]
     },
     "execution_count": 20,
     "metadata": {},
     "output_type": "execute_result"
    }
   ],
   "source": [
    "lr.intercept_,lr.coef_"
   ]
  },
  {
   "cell_type": "code",
   "execution_count": 21,
   "id": "trying-destiny",
   "metadata": {},
   "outputs": [
    {
     "data": {
      "text/plain": [
       "array([21.1365802 , 26.40391742, 36.93859185, 68.54261514, 52.74060349,\n",
       "       84.34462679, 58.00794071, 10.60190577, 47.47326628, 73.80995236])"
      ]
     },
     "execution_count": 21,
     "metadata": {},
     "output_type": "execute_result"
    }
   ],
   "source": [
    "y_predict = lr.predict(x.reshape(-1,1))\n",
    "y_predict"
   ]
  },
  {
   "cell_type": "code",
   "execution_count": 22,
   "id": "dynamic-platinum",
   "metadata": {},
   "outputs": [
    {
     "data": {
      "text/plain": [
       "17.499947061937544"
      ]
     },
     "execution_count": 22,
     "metadata": {},
     "output_type": "execute_result"
    }
   ],
   "source": [
    "mean_squared_error(y,y_predict)"
   ]
  },
  {
   "cell_type": "code",
   "execution_count": 23,
   "id": "tough-breath",
   "metadata": {},
   "outputs": [],
   "source": [
    "from sklearn.linear_model import ElasticNet,Ridge,Lasso"
   ]
  },
  {
   "cell_type": "code",
   "execution_count": 24,
   "id": "greater-owner",
   "metadata": {},
   "outputs": [
    {
     "data": {
      "text/plain": [
       "ElasticNet()"
      ]
     },
     "execution_count": 24,
     "metadata": {},
     "output_type": "execute_result"
    }
   ],
   "source": [
    "lre = ElasticNet()\n",
    "lre.fit(x.reshape(-1,1),y)"
   ]
  },
  {
   "cell_type": "code",
   "execution_count": 25,
   "id": "pointed-sacrifice",
   "metadata": {},
   "outputs": [
    {
     "data": {
      "text/plain": [
       "(6.643630737493552, array([5.1057246]))"
      ]
     },
     "execution_count": 25,
     "metadata": {},
     "output_type": "execute_result"
    }
   ],
   "source": [
    "lre.intercept_,lre.coef_"
   ]
  },
  {
   "cell_type": "code",
   "execution_count": 26,
   "id": "lasting-championship",
   "metadata": {},
   "outputs": [
    {
     "data": {
      "text/plain": [
       "array([21.96080454, 27.06652914, 37.27797834, 67.91232594, 52.59515214,\n",
       "       83.22949974, 57.70087674, 11.74935534, 47.48942754, 73.01805054])"
      ]
     },
     "execution_count": 26,
     "metadata": {},
     "output_type": "execute_result"
    }
   ],
   "source": [
    "y_predict_e = lre.predict(x.reshape(-1,1))\n",
    "y_predict_e"
   ]
  },
  {
   "cell_type": "code",
   "execution_count": 27,
   "id": "grand-dairy",
   "metadata": {},
   "outputs": [
    {
     "data": {
      "text/plain": [
       "17.993328121953727"
      ]
     },
     "execution_count": 27,
     "metadata": {},
     "output_type": "execute_result"
    }
   ],
   "source": [
    "mean_squared_error(y,y_predict_e)"
   ]
  }
 ],
 "metadata": {
  "kernelspec": {
   "display_name": "Python 3",
   "language": "python",
   "name": "python3"
  },
  "language_info": {
   "codemirror_mode": {
    "name": "ipython",
    "version": 3
   },
   "file_extension": ".py",
   "mimetype": "text/x-python",
   "name": "python",
   "nbconvert_exporter": "python",
   "pygments_lexer": "ipython3",
   "version": "3.7.9"
  }
 },
 "nbformat": 4,
 "nbformat_minor": 5
}
